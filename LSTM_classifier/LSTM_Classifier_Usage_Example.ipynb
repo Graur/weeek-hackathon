{
  "nbformat": 4,
  "nbformat_minor": 0,
  "metadata": {
    "colab": {
      "provenance": []
    },
    "kernelspec": {
      "name": "python3",
      "display_name": "Python 3"
    },
    "language_info": {
      "name": "python"
    }
  },
  "cells": [
    {
      "cell_type": "markdown",
      "source": [
        "# Применение модели"
      ],
      "metadata": {
        "id": "-0YC2hwLLW2a"
      }
    },
    {
      "cell_type": "code",
      "source": [
        "import torch\n",
        "import torch.nn as nn\n",
        "import torch.nn.functional as F\n",
        "import json"
      ],
      "metadata": {
        "id": "lkltRRl_MCeM"
      },
      "execution_count": 1,
      "outputs": []
    },
    {
      "cell_type": "code",
      "source": [
        "# Вспомогательные функции\n",
        "def clean_sentence(sent):\n",
        "  sent = sent.split()\n",
        "  clean_sent = list()\n",
        "  for word in sent:\n",
        "    word = word.lower()\n",
        "    for letter in word:\n",
        "      if not letter.isalpha() and not letter.isnumeric():\n",
        "        word=word.replace(letter, \"\")\n",
        "    clean_sent.append(word)\n",
        "  return clean_sent\n",
        "\n",
        "def prepare_sequence(seq, to_ix):\n",
        "    idxs = [to_ix[w] for w in seq]\n",
        "    return torch.tensor(idxs, dtype=torch.long)"
      ],
      "metadata": {
        "id": "d3ScuAe6LZxv"
      },
      "execution_count": 2,
      "outputs": []
    },
    {
      "cell_type": "code",
      "source": [
        "# Загрузим словарь\n",
        "with open('vocab.json', 'r') as f:\n",
        "  vocab = json.load(f)\n",
        "\n",
        "# Загрузим типы задач\n",
        "with open('flipped_tasks.json', 'r') as f:\n",
        "  flipped_tasks = json.load(f)"
      ],
      "metadata": {
        "id": "7vi5zk-HNZyL"
      },
      "execution_count": 3,
      "outputs": []
    },
    {
      "cell_type": "code",
      "source": [
        "embed_len = 50\n",
        "hidden_dim = 75\n",
        "n_layers=1\n",
        "class LSTMClassifier(nn.Module):\n",
        "    def __init__(self):\n",
        "        super(LSTMClassifier, self).__init__()\n",
        "        self.embedding_layer = nn.Embedding(num_embeddings=len(vocab), embedding_dim=embed_len)\n",
        "        self.lstm = nn.LSTM(input_size=embed_len, hidden_size=hidden_dim, num_layers=n_layers, batch_first=True)\n",
        "        self.linear = nn.Linear(hidden_dim, len(flipped_tasks))\n",
        "\n",
        "    def forward(self, X_batch):\n",
        "        embeddings = self.embedding_layer(X_batch)\n",
        "        hidden, carry = torch.randn(n_layers, len(X_batch), hidden_dim), torch.randn(n_layers, len(X_batch), hidden_dim)\n",
        "        output, (hidden, carry) = self.lstm(embeddings, (hidden, carry))\n",
        "        return self.linear(output[:,-1])"
      ],
      "metadata": {
        "id": "6RNLuADaMlXB"
      },
      "execution_count": 4,
      "outputs": []
    },
    {
      "cell_type": "code",
      "source": [
        "# Загрузим модель\n",
        "model = torch.load(\"LSTM_classifier.pth\")\n",
        "model.eval()"
      ],
      "metadata": {
        "colab": {
          "base_uri": "https://localhost:8080/"
        },
        "id": "_N86DPsm9PnB",
        "outputId": "d210bf97-2cf3-43cb-c4d9-f45654e3289d"
      },
      "execution_count": 5,
      "outputs": [
        {
          "output_type": "execute_result",
          "data": {
            "text/plain": [
              "LSTMClassifier(\n",
              "  (embedding_layer): Embedding(3208, 50)\n",
              "  (lstm): LSTM(50, 75, batch_first=True)\n",
              "  (linear): Linear(in_features=75, out_features=2, bias=True)\n",
              ")"
            ]
          },
          "metadata": {},
          "execution_count": 5
        }
      ]
    },
    {
      "cell_type": "code",
      "source": [
        "example = 'Как установить срок выполнения задачи в WEEEK?'\n",
        "def get_result(example):\n",
        "  example = clean_sentence(example)\n",
        "  input = prepare_sequence(example, vocab)\n",
        "  out = model(input[None, :])\n",
        "  pred = list(max(out)).index(max(max(out)).item())\n",
        "  return flipped_tasks[str(pred)]\n",
        "\n",
        "get_result(example)"
      ],
      "metadata": {
        "colab": {
          "base_uri": "https://localhost:8080/",
          "height": 35
        },
        "id": "-dyD-LbG6o7O",
        "outputId": "c83bc234-7b55-451a-cfad-fb116f262515"
      },
      "execution_count": 6,
      "outputs": [
        {
          "output_type": "execute_result",
          "data": {
            "text/plain": [
              "'advice'"
            ],
            "application/vnd.google.colaboratory.intrinsic+json": {
              "type": "string"
            }
          },
          "metadata": {},
          "execution_count": 6
        }
      ]
    },
    {
      "cell_type": "code",
      "source": [
        "examples = [\"Как организовать проект и добавиь в него задачки?\",\n",
        "\"Как настроить автоматическое назначение задач на основе приоритета?\",\n",
        "\"Как настроить интеграцию с системами учета рабочего времени?\",\n",
        "\"Как оценить критические показатели и метрики для задач?\",\n",
        "\"Как настроить интеграцию с облачными хранилищами файлов?\",\n",
        "\"Как настроить доступ к задачам для внешних сторон?\",\n",
        "\"Как оценить продвижение проекта по этапам и майлстонам?\",\n",
        "\"Как оценить выполнение задачи с точки зрения качества?\",\n",
        "\"Как настроить интеграцию с системами управления контентом?\",\n",
        "\"Алексей Орлов, разработайте медиа-план на следующий год к 10 февраля.\",\n",
        "\"Анна Кузнецова, разработайте анкету для исследования рынка к 5 апреля.\",\n",
        "\"Александр Логинов, разработайте концепцию вирусной рекламной кампании к 1 июня.\",\n",
        "\"Анатолий Петухов, проанализируйте рыночные возможности нового стартапа к 15 июля.\",\n",
        "\"Алексей Жуков подготовьте предложения по оптимизации сайта к 20 августа.\",\n",
        "\"Александр Логинов, спланируйте создание контент-плана на месяц вперед к 25 ноября.\",\n",
        "\"Алексею Орлову нужно спланировать нашу работу по созданию аккаунтов компании в социальных сетях на следующий месяц к пятнице.\",\n",
        "\"Анна Кузнецова, разработайте анкету для исследования потребителей и представьте варианты опросника завтра.\",\n",
        "\"Александр должен разработать дизайн этикеток для новой продукции к 1 марта.\"]"
      ],
      "metadata": {
        "id": "XLJodP0i-VL_"
      },
      "execution_count": 7,
      "outputs": []
    },
    {
      "cell_type": "code",
      "source": [
        "for example in examples:\n",
        "  print(f\"{example}  =>  {get_result(example)}\")"
      ],
      "metadata": {
        "colab": {
          "base_uri": "https://localhost:8080/"
        },
        "id": "MUKgfBWQ9x_g",
        "outputId": "81e37068-bb61-493b-c9dc-0ad2501971f0"
      },
      "execution_count": 8,
      "outputs": [
        {
          "output_type": "stream",
          "name": "stdout",
          "text": [
            "Как организовать проект и добавиь в него задачки?  =>  advice\n",
            "Как настроить автоматическое назначение задач на основе приоритета?  =>  advice\n",
            "Как настроить интеграцию с системами учета рабочего времени?  =>  advice\n",
            "Как оценить критические показатели и метрики для задач?  =>  advice\n",
            "Как настроить интеграцию с облачными хранилищами файлов?  =>  advice\n",
            "Как настроить доступ к задачам для внешних сторон?  =>  advice\n",
            "Как оценить продвижение проекта по этапам и майлстонам?  =>  advice\n",
            "Как оценить выполнение задачи с точки зрения качества?  =>  advice\n",
            "Как настроить интеграцию с системами управления контентом?  =>  advice\n",
            "Алексей Орлов, разработайте медиа-план на следующий год к 10 февраля.  =>  task_create\n",
            "Анна Кузнецова, разработайте анкету для исследования рынка к 5 апреля.  =>  task_create\n",
            "Александр Логинов, разработайте концепцию вирусной рекламной кампании к 1 июня.  =>  task_create\n",
            "Анатолий Петухов, проанализируйте рыночные возможности нового стартапа к 15 июля.  =>  task_create\n",
            "Алексей Жуков подготовьте предложения по оптимизации сайта к 20 августа.  =>  task_create\n",
            "Александр Логинов, спланируйте создание контент-плана на месяц вперед к 25 ноября.  =>  task_create\n",
            "Алексею Орлову нужно спланировать нашу работу по созданию аккаунтов компании в социальных сетях на следующий месяц к пятнице.  =>  task_create\n",
            "Анна Кузнецова, разработайте анкету для исследования потребителей и представьте варианты опросника завтра.  =>  task_create\n",
            "Александр должен разработать дизайн этикеток для новой продукции к 1 марта.  =>  task_create\n"
          ]
        }
      ]
    },
    {
      "cell_type": "code",
      "source": [
        "# Не работает со словами, которых модель не видела в датасете\n",
        "\n",
        "get_result(\"Кто такие Авоська и Небоська?\")"
      ],
      "metadata": {
        "colab": {
          "base_uri": "https://localhost:8080/",
          "height": 303
        },
        "id": "KNrU5C72Fkxv",
        "outputId": "d7845c90-ccc2-436d-acaf-fec7519e4987"
      },
      "execution_count": 9,
      "outputs": [
        {
          "output_type": "error",
          "ename": "KeyError",
          "evalue": "ignored",
          "traceback": [
            "\u001b[0;31m---------------------------------------------------------------------------\u001b[0m",
            "\u001b[0;31mKeyError\u001b[0m                                  Traceback (most recent call last)",
            "\u001b[0;32m<ipython-input-9-b376533c7ceb>\u001b[0m in \u001b[0;36m<cell line: 1>\u001b[0;34m()\u001b[0m\n\u001b[0;32m----> 1\u001b[0;31m \u001b[0mget_result\u001b[0m\u001b[0;34m(\u001b[0m\u001b[0;34m\"Кто такие Авоська и Небоська?\"\u001b[0m\u001b[0;34m)\u001b[0m\u001b[0;34m\u001b[0m\u001b[0;34m\u001b[0m\u001b[0m\n\u001b[0m",
            "\u001b[0;32m<ipython-input-6-fd6cf29a7ea0>\u001b[0m in \u001b[0;36mget_result\u001b[0;34m(example)\u001b[0m\n\u001b[1;32m      2\u001b[0m \u001b[0;32mdef\u001b[0m \u001b[0mget_result\u001b[0m\u001b[0;34m(\u001b[0m\u001b[0mexample\u001b[0m\u001b[0;34m)\u001b[0m\u001b[0;34m:\u001b[0m\u001b[0;34m\u001b[0m\u001b[0;34m\u001b[0m\u001b[0m\n\u001b[1;32m      3\u001b[0m   \u001b[0mexample\u001b[0m \u001b[0;34m=\u001b[0m \u001b[0mclean_sentence\u001b[0m\u001b[0;34m(\u001b[0m\u001b[0mexample\u001b[0m\u001b[0;34m)\u001b[0m\u001b[0;34m\u001b[0m\u001b[0;34m\u001b[0m\u001b[0m\n\u001b[0;32m----> 4\u001b[0;31m   \u001b[0minput\u001b[0m \u001b[0;34m=\u001b[0m \u001b[0mprepare_sequence\u001b[0m\u001b[0;34m(\u001b[0m\u001b[0mexample\u001b[0m\u001b[0;34m,\u001b[0m \u001b[0mvocab\u001b[0m\u001b[0;34m)\u001b[0m\u001b[0;34m\u001b[0m\u001b[0;34m\u001b[0m\u001b[0m\n\u001b[0m\u001b[1;32m      5\u001b[0m   \u001b[0mout\u001b[0m \u001b[0;34m=\u001b[0m \u001b[0mmodel\u001b[0m\u001b[0;34m(\u001b[0m\u001b[0minput\u001b[0m\u001b[0;34m[\u001b[0m\u001b[0;32mNone\u001b[0m\u001b[0;34m,\u001b[0m \u001b[0;34m:\u001b[0m\u001b[0;34m]\u001b[0m\u001b[0;34m)\u001b[0m\u001b[0;34m\u001b[0m\u001b[0;34m\u001b[0m\u001b[0m\n\u001b[1;32m      6\u001b[0m   \u001b[0mpred\u001b[0m \u001b[0;34m=\u001b[0m \u001b[0mlist\u001b[0m\u001b[0;34m(\u001b[0m\u001b[0mmax\u001b[0m\u001b[0;34m(\u001b[0m\u001b[0mout\u001b[0m\u001b[0;34m)\u001b[0m\u001b[0;34m)\u001b[0m\u001b[0;34m.\u001b[0m\u001b[0mindex\u001b[0m\u001b[0;34m(\u001b[0m\u001b[0mmax\u001b[0m\u001b[0;34m(\u001b[0m\u001b[0mmax\u001b[0m\u001b[0;34m(\u001b[0m\u001b[0mout\u001b[0m\u001b[0;34m)\u001b[0m\u001b[0;34m)\u001b[0m\u001b[0;34m.\u001b[0m\u001b[0mitem\u001b[0m\u001b[0;34m(\u001b[0m\u001b[0;34m)\u001b[0m\u001b[0;34m)\u001b[0m\u001b[0;34m\u001b[0m\u001b[0;34m\u001b[0m\u001b[0m\n",
            "\u001b[0;32m<ipython-input-2-c2dcfdab1c84>\u001b[0m in \u001b[0;36mprepare_sequence\u001b[0;34m(seq, to_ix)\u001b[0m\n\u001b[1;32m     12\u001b[0m \u001b[0;34m\u001b[0m\u001b[0m\n\u001b[1;32m     13\u001b[0m \u001b[0;32mdef\u001b[0m \u001b[0mprepare_sequence\u001b[0m\u001b[0;34m(\u001b[0m\u001b[0mseq\u001b[0m\u001b[0;34m,\u001b[0m \u001b[0mto_ix\u001b[0m\u001b[0;34m)\u001b[0m\u001b[0;34m:\u001b[0m\u001b[0;34m\u001b[0m\u001b[0;34m\u001b[0m\u001b[0m\n\u001b[0;32m---> 14\u001b[0;31m     \u001b[0midxs\u001b[0m \u001b[0;34m=\u001b[0m \u001b[0;34m[\u001b[0m\u001b[0mto_ix\u001b[0m\u001b[0;34m[\u001b[0m\u001b[0mw\u001b[0m\u001b[0;34m]\u001b[0m \u001b[0;32mfor\u001b[0m \u001b[0mw\u001b[0m \u001b[0;32min\u001b[0m \u001b[0mseq\u001b[0m\u001b[0;34m]\u001b[0m\u001b[0;34m\u001b[0m\u001b[0;34m\u001b[0m\u001b[0m\n\u001b[0m\u001b[1;32m     15\u001b[0m     \u001b[0;32mreturn\u001b[0m \u001b[0mtorch\u001b[0m\u001b[0;34m.\u001b[0m\u001b[0mtensor\u001b[0m\u001b[0;34m(\u001b[0m\u001b[0midxs\u001b[0m\u001b[0;34m,\u001b[0m \u001b[0mdtype\u001b[0m\u001b[0;34m=\u001b[0m\u001b[0mtorch\u001b[0m\u001b[0;34m.\u001b[0m\u001b[0mlong\u001b[0m\u001b[0;34m)\u001b[0m\u001b[0;34m\u001b[0m\u001b[0;34m\u001b[0m\u001b[0m\n",
            "\u001b[0;32m<ipython-input-2-c2dcfdab1c84>\u001b[0m in \u001b[0;36m<listcomp>\u001b[0;34m(.0)\u001b[0m\n\u001b[1;32m     12\u001b[0m \u001b[0;34m\u001b[0m\u001b[0m\n\u001b[1;32m     13\u001b[0m \u001b[0;32mdef\u001b[0m \u001b[0mprepare_sequence\u001b[0m\u001b[0;34m(\u001b[0m\u001b[0mseq\u001b[0m\u001b[0;34m,\u001b[0m \u001b[0mto_ix\u001b[0m\u001b[0;34m)\u001b[0m\u001b[0;34m:\u001b[0m\u001b[0;34m\u001b[0m\u001b[0;34m\u001b[0m\u001b[0m\n\u001b[0;32m---> 14\u001b[0;31m     \u001b[0midxs\u001b[0m \u001b[0;34m=\u001b[0m \u001b[0;34m[\u001b[0m\u001b[0mto_ix\u001b[0m\u001b[0;34m[\u001b[0m\u001b[0mw\u001b[0m\u001b[0;34m]\u001b[0m \u001b[0;32mfor\u001b[0m \u001b[0mw\u001b[0m \u001b[0;32min\u001b[0m \u001b[0mseq\u001b[0m\u001b[0;34m]\u001b[0m\u001b[0;34m\u001b[0m\u001b[0;34m\u001b[0m\u001b[0m\n\u001b[0m\u001b[1;32m     15\u001b[0m     \u001b[0;32mreturn\u001b[0m \u001b[0mtorch\u001b[0m\u001b[0;34m.\u001b[0m\u001b[0mtensor\u001b[0m\u001b[0;34m(\u001b[0m\u001b[0midxs\u001b[0m\u001b[0;34m,\u001b[0m \u001b[0mdtype\u001b[0m\u001b[0;34m=\u001b[0m\u001b[0mtorch\u001b[0m\u001b[0;34m.\u001b[0m\u001b[0mlong\u001b[0m\u001b[0;34m)\u001b[0m\u001b[0;34m\u001b[0m\u001b[0;34m\u001b[0m\u001b[0m\n",
            "\u001b[0;31mKeyError\u001b[0m: 'такие'"
          ]
        }
      ]
    }
  ]
}