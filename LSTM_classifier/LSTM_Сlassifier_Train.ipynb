{
  "nbformat": 4,
  "nbformat_minor": 0,
  "metadata": {
    "colab": {
      "provenance": []
    },
    "kernelspec": {
      "name": "python3",
      "display_name": "Python 3"
    },
    "language_info": {
      "name": "python"
    }
  },
  "cells": [
    {
      "cell_type": "markdown",
      "source": [
        "https://coderzcolumn.com/tutorials/artificial-intelligence/pytorch-lstm-for-text-classification-tasks"
      ],
      "metadata": {
        "id": "xSWZCOJm0G7H"
      }
    },
    {
      "cell_type": "code",
      "source": [
        "! pip install scikit-plot"
      ],
      "metadata": {
        "colab": {
          "base_uri": "https://localhost:8080/"
        },
        "id": "U8P8SeWlNMsy",
        "outputId": "8c2a751a-412c-41c4-a25c-a0744be13332"
      },
      "execution_count": 1,
      "outputs": [
        {
          "output_type": "stream",
          "name": "stdout",
          "text": [
            "Collecting scikit-plot\n",
            "  Downloading scikit_plot-0.3.7-py3-none-any.whl (33 kB)\n",
            "Requirement already satisfied: matplotlib>=1.4.0 in /usr/local/lib/python3.10/dist-packages (from scikit-plot) (3.7.1)\n",
            "Requirement already satisfied: scikit-learn>=0.18 in /usr/local/lib/python3.10/dist-packages (from scikit-plot) (1.2.2)\n",
            "Requirement already satisfied: scipy>=0.9 in /usr/local/lib/python3.10/dist-packages (from scikit-plot) (1.11.4)\n",
            "Requirement already satisfied: joblib>=0.10 in /usr/local/lib/python3.10/dist-packages (from scikit-plot) (1.3.2)\n",
            "Requirement already satisfied: contourpy>=1.0.1 in /usr/local/lib/python3.10/dist-packages (from matplotlib>=1.4.0->scikit-plot) (1.2.0)\n",
            "Requirement already satisfied: cycler>=0.10 in /usr/local/lib/python3.10/dist-packages (from matplotlib>=1.4.0->scikit-plot) (0.12.1)\n",
            "Requirement already satisfied: fonttools>=4.22.0 in /usr/local/lib/python3.10/dist-packages (from matplotlib>=1.4.0->scikit-plot) (4.46.0)\n",
            "Requirement already satisfied: kiwisolver>=1.0.1 in /usr/local/lib/python3.10/dist-packages (from matplotlib>=1.4.0->scikit-plot) (1.4.5)\n",
            "Requirement already satisfied: numpy>=1.20 in /usr/local/lib/python3.10/dist-packages (from matplotlib>=1.4.0->scikit-plot) (1.23.5)\n",
            "Requirement already satisfied: packaging>=20.0 in /usr/local/lib/python3.10/dist-packages (from matplotlib>=1.4.0->scikit-plot) (23.2)\n",
            "Requirement already satisfied: pillow>=6.2.0 in /usr/local/lib/python3.10/dist-packages (from matplotlib>=1.4.0->scikit-plot) (9.4.0)\n",
            "Requirement already satisfied: pyparsing>=2.3.1 in /usr/local/lib/python3.10/dist-packages (from matplotlib>=1.4.0->scikit-plot) (3.1.1)\n",
            "Requirement already satisfied: python-dateutil>=2.7 in /usr/local/lib/python3.10/dist-packages (from matplotlib>=1.4.0->scikit-plot) (2.8.2)\n",
            "Requirement already satisfied: threadpoolctl>=2.0.0 in /usr/local/lib/python3.10/dist-packages (from scikit-learn>=0.18->scikit-plot) (3.2.0)\n",
            "Requirement already satisfied: six>=1.5 in /usr/local/lib/python3.10/dist-packages (from python-dateutil>=2.7->matplotlib>=1.4.0->scikit-plot) (1.16.0)\n",
            "Installing collected packages: scikit-plot\n",
            "Successfully installed scikit-plot-0.3.7\n"
          ]
        }
      ]
    },
    {
      "cell_type": "code",
      "source": [
        "import torch\n",
        "import torch.nn as nn\n",
        "import torch.nn.functional as F\n",
        "import torch.optim as optim\n",
        "import json\n",
        "\n",
        "from torch.utils.data import Dataset\n",
        "from torch.utils.data import DataLoader\n",
        "\n",
        "import pandas as pd\n",
        "import numpy as np\n",
        "import matplotlib.pyplot as plt\n",
        "torch.manual_seed(1)"
      ],
      "metadata": {
        "colab": {
          "base_uri": "https://localhost:8080/"
        },
        "id": "j0CUWQrWV241",
        "outputId": "19d01e98-8318-47d9-c5d2-bd97e28ad799"
      },
      "execution_count": 71,
      "outputs": [
        {
          "output_type": "execute_result",
          "data": {
            "text/plain": [
              "<torch._C.Generator at 0x7f50d4322490>"
            ]
          },
          "metadata": {},
          "execution_count": 71
        }
      ]
    },
    {
      "cell_type": "code",
      "source": [
        "df = pd.read_csv(\"https://docs.google.com/spreadsheets/d/1BKNwZcdat_-8dqh2-FgmmAzRNQBcAfzBV_bPV2wSuwI/export?gid=0&format=csv\")"
      ],
      "metadata": {
        "id": "FcNuiSUifW1C"
      },
      "execution_count": 3,
      "outputs": []
    },
    {
      "cell_type": "code",
      "source": [
        "tasks = {v:k for k,v in dict(enumerate(list(df.event_type.unique()))).items()}\n",
        "print(tasks)"
      ],
      "metadata": {
        "colab": {
          "base_uri": "https://localhost:8080/"
        },
        "id": "zz0EOt_pftnt",
        "outputId": "8b8f7a2f-ba9c-43d9-ad43-055c32189011"
      },
      "execution_count": 4,
      "outputs": [
        {
          "output_type": "stream",
          "name": "stdout",
          "text": [
            "{'advice': 0, 'task_create': 1}\n"
          ]
        }
      ]
    },
    {
      "cell_type": "code",
      "source": [
        "flipped_tasks = {v:k for k,v in tasks.items()}\n",
        "flipped_tasks"
      ],
      "metadata": {
        "colab": {
          "base_uri": "https://localhost:8080/"
        },
        "id": "Ap_cqSG1GUfp",
        "outputId": "771b0741-4751-4130-ff1b-b0ded0e2edd1"
      },
      "execution_count": 5,
      "outputs": [
        {
          "output_type": "execute_result",
          "data": {
            "text/plain": [
              "{0: 'advice', 1: 'task_create'}"
            ]
          },
          "metadata": {},
          "execution_count": 5
        }
      ]
    },
    {
      "cell_type": "code",
      "source": [
        "df.head(5)"
      ],
      "metadata": {
        "colab": {
          "base_uri": "https://localhost:8080/",
          "height": 206
        },
        "id": "hKSDuhXYf2LA",
        "outputId": "805b91fb-b674-427d-e7f8-51352475095e"
      },
      "execution_count": 6,
      "outputs": [
        {
          "output_type": "execute_result",
          "data": {
            "text/plain": [
              "                                           Message event_type\n",
              "0                Как создать новую задачу в WEEEK?     advice\n",
              "1  Как назначить ответственного за задачу в WEEEK?     advice\n",
              "2   Как установить срок выполнения задачи в WEEEK?     advice\n",
              "3          Как добавить описание к задаче в WEEEK?     advice\n",
              "4            Как прикрепить файл к задаче в WEEEK?     advice"
            ],
            "text/html": [
              "\n",
              "  <div id=\"df-8b8f758b-eac7-4b33-a0ff-6417c416819b\" class=\"colab-df-container\">\n",
              "    <div>\n",
              "<style scoped>\n",
              "    .dataframe tbody tr th:only-of-type {\n",
              "        vertical-align: middle;\n",
              "    }\n",
              "\n",
              "    .dataframe tbody tr th {\n",
              "        vertical-align: top;\n",
              "    }\n",
              "\n",
              "    .dataframe thead th {\n",
              "        text-align: right;\n",
              "    }\n",
              "</style>\n",
              "<table border=\"1\" class=\"dataframe\">\n",
              "  <thead>\n",
              "    <tr style=\"text-align: right;\">\n",
              "      <th></th>\n",
              "      <th>Message</th>\n",
              "      <th>event_type</th>\n",
              "    </tr>\n",
              "  </thead>\n",
              "  <tbody>\n",
              "    <tr>\n",
              "      <th>0</th>\n",
              "      <td>Как создать новую задачу в WEEEK?</td>\n",
              "      <td>advice</td>\n",
              "    </tr>\n",
              "    <tr>\n",
              "      <th>1</th>\n",
              "      <td>Как назначить ответственного за задачу в WEEEK?</td>\n",
              "      <td>advice</td>\n",
              "    </tr>\n",
              "    <tr>\n",
              "      <th>2</th>\n",
              "      <td>Как установить срок выполнения задачи в WEEEK?</td>\n",
              "      <td>advice</td>\n",
              "    </tr>\n",
              "    <tr>\n",
              "      <th>3</th>\n",
              "      <td>Как добавить описание к задаче в WEEEK?</td>\n",
              "      <td>advice</td>\n",
              "    </tr>\n",
              "    <tr>\n",
              "      <th>4</th>\n",
              "      <td>Как прикрепить файл к задаче в WEEEK?</td>\n",
              "      <td>advice</td>\n",
              "    </tr>\n",
              "  </tbody>\n",
              "</table>\n",
              "</div>\n",
              "    <div class=\"colab-df-buttons\">\n",
              "\n",
              "  <div class=\"colab-df-container\">\n",
              "    <button class=\"colab-df-convert\" onclick=\"convertToInteractive('df-8b8f758b-eac7-4b33-a0ff-6417c416819b')\"\n",
              "            title=\"Convert this dataframe to an interactive table.\"\n",
              "            style=\"display:none;\">\n",
              "\n",
              "  <svg xmlns=\"http://www.w3.org/2000/svg\" height=\"24px\" viewBox=\"0 -960 960 960\">\n",
              "    <path d=\"M120-120v-720h720v720H120Zm60-500h600v-160H180v160Zm220 220h160v-160H400v160Zm0 220h160v-160H400v160ZM180-400h160v-160H180v160Zm440 0h160v-160H620v160ZM180-180h160v-160H180v160Zm440 0h160v-160H620v160Z\"/>\n",
              "  </svg>\n",
              "    </button>\n",
              "\n",
              "  <style>\n",
              "    .colab-df-container {\n",
              "      display:flex;\n",
              "      gap: 12px;\n",
              "    }\n",
              "\n",
              "    .colab-df-convert {\n",
              "      background-color: #E8F0FE;\n",
              "      border: none;\n",
              "      border-radius: 50%;\n",
              "      cursor: pointer;\n",
              "      display: none;\n",
              "      fill: #1967D2;\n",
              "      height: 32px;\n",
              "      padding: 0 0 0 0;\n",
              "      width: 32px;\n",
              "    }\n",
              "\n",
              "    .colab-df-convert:hover {\n",
              "      background-color: #E2EBFA;\n",
              "      box-shadow: 0px 1px 2px rgba(60, 64, 67, 0.3), 0px 1px 3px 1px rgba(60, 64, 67, 0.15);\n",
              "      fill: #174EA6;\n",
              "    }\n",
              "\n",
              "    .colab-df-buttons div {\n",
              "      margin-bottom: 4px;\n",
              "    }\n",
              "\n",
              "    [theme=dark] .colab-df-convert {\n",
              "      background-color: #3B4455;\n",
              "      fill: #D2E3FC;\n",
              "    }\n",
              "\n",
              "    [theme=dark] .colab-df-convert:hover {\n",
              "      background-color: #434B5C;\n",
              "      box-shadow: 0px 1px 3px 1px rgba(0, 0, 0, 0.15);\n",
              "      filter: drop-shadow(0px 1px 2px rgba(0, 0, 0, 0.3));\n",
              "      fill: #FFFFFF;\n",
              "    }\n",
              "  </style>\n",
              "\n",
              "    <script>\n",
              "      const buttonEl =\n",
              "        document.querySelector('#df-8b8f758b-eac7-4b33-a0ff-6417c416819b button.colab-df-convert');\n",
              "      buttonEl.style.display =\n",
              "        google.colab.kernel.accessAllowed ? 'block' : 'none';\n",
              "\n",
              "      async function convertToInteractive(key) {\n",
              "        const element = document.querySelector('#df-8b8f758b-eac7-4b33-a0ff-6417c416819b');\n",
              "        const dataTable =\n",
              "          await google.colab.kernel.invokeFunction('convertToInteractive',\n",
              "                                                    [key], {});\n",
              "        if (!dataTable) return;\n",
              "\n",
              "        const docLinkHtml = 'Like what you see? Visit the ' +\n",
              "          '<a target=\"_blank\" href=https://colab.research.google.com/notebooks/data_table.ipynb>data table notebook</a>'\n",
              "          + ' to learn more about interactive tables.';\n",
              "        element.innerHTML = '';\n",
              "        dataTable['output_type'] = 'display_data';\n",
              "        await google.colab.output.renderOutput(dataTable, element);\n",
              "        const docLink = document.createElement('div');\n",
              "        docLink.innerHTML = docLinkHtml;\n",
              "        element.appendChild(docLink);\n",
              "      }\n",
              "    </script>\n",
              "  </div>\n",
              "\n",
              "\n",
              "<div id=\"df-d7fa2a1a-d198-42d2-b271-af224134dcd7\">\n",
              "  <button class=\"colab-df-quickchart\" onclick=\"quickchart('df-d7fa2a1a-d198-42d2-b271-af224134dcd7')\"\n",
              "            title=\"Suggest charts\"\n",
              "            style=\"display:none;\">\n",
              "\n",
              "<svg xmlns=\"http://www.w3.org/2000/svg\" height=\"24px\"viewBox=\"0 0 24 24\"\n",
              "     width=\"24px\">\n",
              "    <g>\n",
              "        <path d=\"M19 3H5c-1.1 0-2 .9-2 2v14c0 1.1.9 2 2 2h14c1.1 0 2-.9 2-2V5c0-1.1-.9-2-2-2zM9 17H7v-7h2v7zm4 0h-2V7h2v10zm4 0h-2v-4h2v4z\"/>\n",
              "    </g>\n",
              "</svg>\n",
              "  </button>\n",
              "\n",
              "<style>\n",
              "  .colab-df-quickchart {\n",
              "      --bg-color: #E8F0FE;\n",
              "      --fill-color: #1967D2;\n",
              "      --hover-bg-color: #E2EBFA;\n",
              "      --hover-fill-color: #174EA6;\n",
              "      --disabled-fill-color: #AAA;\n",
              "      --disabled-bg-color: #DDD;\n",
              "  }\n",
              "\n",
              "  [theme=dark] .colab-df-quickchart {\n",
              "      --bg-color: #3B4455;\n",
              "      --fill-color: #D2E3FC;\n",
              "      --hover-bg-color: #434B5C;\n",
              "      --hover-fill-color: #FFFFFF;\n",
              "      --disabled-bg-color: #3B4455;\n",
              "      --disabled-fill-color: #666;\n",
              "  }\n",
              "\n",
              "  .colab-df-quickchart {\n",
              "    background-color: var(--bg-color);\n",
              "    border: none;\n",
              "    border-radius: 50%;\n",
              "    cursor: pointer;\n",
              "    display: none;\n",
              "    fill: var(--fill-color);\n",
              "    height: 32px;\n",
              "    padding: 0;\n",
              "    width: 32px;\n",
              "  }\n",
              "\n",
              "  .colab-df-quickchart:hover {\n",
              "    background-color: var(--hover-bg-color);\n",
              "    box-shadow: 0 1px 2px rgba(60, 64, 67, 0.3), 0 1px 3px 1px rgba(60, 64, 67, 0.15);\n",
              "    fill: var(--button-hover-fill-color);\n",
              "  }\n",
              "\n",
              "  .colab-df-quickchart-complete:disabled,\n",
              "  .colab-df-quickchart-complete:disabled:hover {\n",
              "    background-color: var(--disabled-bg-color);\n",
              "    fill: var(--disabled-fill-color);\n",
              "    box-shadow: none;\n",
              "  }\n",
              "\n",
              "  .colab-df-spinner {\n",
              "    border: 2px solid var(--fill-color);\n",
              "    border-color: transparent;\n",
              "    border-bottom-color: var(--fill-color);\n",
              "    animation:\n",
              "      spin 1s steps(1) infinite;\n",
              "  }\n",
              "\n",
              "  @keyframes spin {\n",
              "    0% {\n",
              "      border-color: transparent;\n",
              "      border-bottom-color: var(--fill-color);\n",
              "      border-left-color: var(--fill-color);\n",
              "    }\n",
              "    20% {\n",
              "      border-color: transparent;\n",
              "      border-left-color: var(--fill-color);\n",
              "      border-top-color: var(--fill-color);\n",
              "    }\n",
              "    30% {\n",
              "      border-color: transparent;\n",
              "      border-left-color: var(--fill-color);\n",
              "      border-top-color: var(--fill-color);\n",
              "      border-right-color: var(--fill-color);\n",
              "    }\n",
              "    40% {\n",
              "      border-color: transparent;\n",
              "      border-right-color: var(--fill-color);\n",
              "      border-top-color: var(--fill-color);\n",
              "    }\n",
              "    60% {\n",
              "      border-color: transparent;\n",
              "      border-right-color: var(--fill-color);\n",
              "    }\n",
              "    80% {\n",
              "      border-color: transparent;\n",
              "      border-right-color: var(--fill-color);\n",
              "      border-bottom-color: var(--fill-color);\n",
              "    }\n",
              "    90% {\n",
              "      border-color: transparent;\n",
              "      border-bottom-color: var(--fill-color);\n",
              "    }\n",
              "  }\n",
              "</style>\n",
              "\n",
              "  <script>\n",
              "    async function quickchart(key) {\n",
              "      const quickchartButtonEl =\n",
              "        document.querySelector('#' + key + ' button');\n",
              "      quickchartButtonEl.disabled = true;  // To prevent multiple clicks.\n",
              "      quickchartButtonEl.classList.add('colab-df-spinner');\n",
              "      try {\n",
              "        const charts = await google.colab.kernel.invokeFunction(\n",
              "            'suggestCharts', [key], {});\n",
              "      } catch (error) {\n",
              "        console.error('Error during call to suggestCharts:', error);\n",
              "      }\n",
              "      quickchartButtonEl.classList.remove('colab-df-spinner');\n",
              "      quickchartButtonEl.classList.add('colab-df-quickchart-complete');\n",
              "    }\n",
              "    (() => {\n",
              "      let quickchartButtonEl =\n",
              "        document.querySelector('#df-d7fa2a1a-d198-42d2-b271-af224134dcd7 button');\n",
              "      quickchartButtonEl.style.display =\n",
              "        google.colab.kernel.accessAllowed ? 'block' : 'none';\n",
              "    })();\n",
              "  </script>\n",
              "</div>\n",
              "    </div>\n",
              "  </div>\n"
            ]
          },
          "metadata": {},
          "execution_count": 6
        }
      ]
    },
    {
      "cell_type": "code",
      "source": [
        "df.tail(5)"
      ],
      "metadata": {
        "colab": {
          "base_uri": "https://localhost:8080/",
          "height": 206
        },
        "id": "no9i7XMYf4hw",
        "outputId": "0a218711-0801-4185-c6bd-fc9103489094"
      },
      "execution_count": 7,
      "outputs": [
        {
          "output_type": "execute_result",
          "data": {
            "text/plain": [
              "                                                Message   event_type\n",
              "2771  Провести конкурс ко Дню космонавтики с призовы...  task_create\n",
              "2772  Разработать 10 вариантов обложек для видео с с...  task_create\n",
              "2773  Придумать 20 идей ежедневных рубрик в ТикТок н...  task_create\n",
              "2774  Спланировать съемки для 10 рецептов коктейлей ...  task_create\n",
              "2775  Провести промо товаров среди подписчиков и про...  task_create"
            ],
            "text/html": [
              "\n",
              "  <div id=\"df-91c518f3-66f7-41ed-947e-977982d38888\" class=\"colab-df-container\">\n",
              "    <div>\n",
              "<style scoped>\n",
              "    .dataframe tbody tr th:only-of-type {\n",
              "        vertical-align: middle;\n",
              "    }\n",
              "\n",
              "    .dataframe tbody tr th {\n",
              "        vertical-align: top;\n",
              "    }\n",
              "\n",
              "    .dataframe thead th {\n",
              "        text-align: right;\n",
              "    }\n",
              "</style>\n",
              "<table border=\"1\" class=\"dataframe\">\n",
              "  <thead>\n",
              "    <tr style=\"text-align: right;\">\n",
              "      <th></th>\n",
              "      <th>Message</th>\n",
              "      <th>event_type</th>\n",
              "    </tr>\n",
              "  </thead>\n",
              "  <tbody>\n",
              "    <tr>\n",
              "      <th>2771</th>\n",
              "      <td>Провести конкурс ко Дню космонавтики с призовы...</td>\n",
              "      <td>task_create</td>\n",
              "    </tr>\n",
              "    <tr>\n",
              "      <th>2772</th>\n",
              "      <td>Разработать 10 вариантов обложек для видео с с...</td>\n",
              "      <td>task_create</td>\n",
              "    </tr>\n",
              "    <tr>\n",
              "      <th>2773</th>\n",
              "      <td>Придумать 20 идей ежедневных рубрик в ТикТок н...</td>\n",
              "      <td>task_create</td>\n",
              "    </tr>\n",
              "    <tr>\n",
              "      <th>2774</th>\n",
              "      <td>Спланировать съемки для 10 рецептов коктейлей ...</td>\n",
              "      <td>task_create</td>\n",
              "    </tr>\n",
              "    <tr>\n",
              "      <th>2775</th>\n",
              "      <td>Провести промо товаров среди подписчиков и про...</td>\n",
              "      <td>task_create</td>\n",
              "    </tr>\n",
              "  </tbody>\n",
              "</table>\n",
              "</div>\n",
              "    <div class=\"colab-df-buttons\">\n",
              "\n",
              "  <div class=\"colab-df-container\">\n",
              "    <button class=\"colab-df-convert\" onclick=\"convertToInteractive('df-91c518f3-66f7-41ed-947e-977982d38888')\"\n",
              "            title=\"Convert this dataframe to an interactive table.\"\n",
              "            style=\"display:none;\">\n",
              "\n",
              "  <svg xmlns=\"http://www.w3.org/2000/svg\" height=\"24px\" viewBox=\"0 -960 960 960\">\n",
              "    <path d=\"M120-120v-720h720v720H120Zm60-500h600v-160H180v160Zm220 220h160v-160H400v160Zm0 220h160v-160H400v160ZM180-400h160v-160H180v160Zm440 0h160v-160H620v160ZM180-180h160v-160H180v160Zm440 0h160v-160H620v160Z\"/>\n",
              "  </svg>\n",
              "    </button>\n",
              "\n",
              "  <style>\n",
              "    .colab-df-container {\n",
              "      display:flex;\n",
              "      gap: 12px;\n",
              "    }\n",
              "\n",
              "    .colab-df-convert {\n",
              "      background-color: #E8F0FE;\n",
              "      border: none;\n",
              "      border-radius: 50%;\n",
              "      cursor: pointer;\n",
              "      display: none;\n",
              "      fill: #1967D2;\n",
              "      height: 32px;\n",
              "      padding: 0 0 0 0;\n",
              "      width: 32px;\n",
              "    }\n",
              "\n",
              "    .colab-df-convert:hover {\n",
              "      background-color: #E2EBFA;\n",
              "      box-shadow: 0px 1px 2px rgba(60, 64, 67, 0.3), 0px 1px 3px 1px rgba(60, 64, 67, 0.15);\n",
              "      fill: #174EA6;\n",
              "    }\n",
              "\n",
              "    .colab-df-buttons div {\n",
              "      margin-bottom: 4px;\n",
              "    }\n",
              "\n",
              "    [theme=dark] .colab-df-convert {\n",
              "      background-color: #3B4455;\n",
              "      fill: #D2E3FC;\n",
              "    }\n",
              "\n",
              "    [theme=dark] .colab-df-convert:hover {\n",
              "      background-color: #434B5C;\n",
              "      box-shadow: 0px 1px 3px 1px rgba(0, 0, 0, 0.15);\n",
              "      filter: drop-shadow(0px 1px 2px rgba(0, 0, 0, 0.3));\n",
              "      fill: #FFFFFF;\n",
              "    }\n",
              "  </style>\n",
              "\n",
              "    <script>\n",
              "      const buttonEl =\n",
              "        document.querySelector('#df-91c518f3-66f7-41ed-947e-977982d38888 button.colab-df-convert');\n",
              "      buttonEl.style.display =\n",
              "        google.colab.kernel.accessAllowed ? 'block' : 'none';\n",
              "\n",
              "      async function convertToInteractive(key) {\n",
              "        const element = document.querySelector('#df-91c518f3-66f7-41ed-947e-977982d38888');\n",
              "        const dataTable =\n",
              "          await google.colab.kernel.invokeFunction('convertToInteractive',\n",
              "                                                    [key], {});\n",
              "        if (!dataTable) return;\n",
              "\n",
              "        const docLinkHtml = 'Like what you see? Visit the ' +\n",
              "          '<a target=\"_blank\" href=https://colab.research.google.com/notebooks/data_table.ipynb>data table notebook</a>'\n",
              "          + ' to learn more about interactive tables.';\n",
              "        element.innerHTML = '';\n",
              "        dataTable['output_type'] = 'display_data';\n",
              "        await google.colab.output.renderOutput(dataTable, element);\n",
              "        const docLink = document.createElement('div');\n",
              "        docLink.innerHTML = docLinkHtml;\n",
              "        element.appendChild(docLink);\n",
              "      }\n",
              "    </script>\n",
              "  </div>\n",
              "\n",
              "\n",
              "<div id=\"df-0cf3d02c-ae99-4867-b456-3faf96110601\">\n",
              "  <button class=\"colab-df-quickchart\" onclick=\"quickchart('df-0cf3d02c-ae99-4867-b456-3faf96110601')\"\n",
              "            title=\"Suggest charts\"\n",
              "            style=\"display:none;\">\n",
              "\n",
              "<svg xmlns=\"http://www.w3.org/2000/svg\" height=\"24px\"viewBox=\"0 0 24 24\"\n",
              "     width=\"24px\">\n",
              "    <g>\n",
              "        <path d=\"M19 3H5c-1.1 0-2 .9-2 2v14c0 1.1.9 2 2 2h14c1.1 0 2-.9 2-2V5c0-1.1-.9-2-2-2zM9 17H7v-7h2v7zm4 0h-2V7h2v10zm4 0h-2v-4h2v4z\"/>\n",
              "    </g>\n",
              "</svg>\n",
              "  </button>\n",
              "\n",
              "<style>\n",
              "  .colab-df-quickchart {\n",
              "      --bg-color: #E8F0FE;\n",
              "      --fill-color: #1967D2;\n",
              "      --hover-bg-color: #E2EBFA;\n",
              "      --hover-fill-color: #174EA6;\n",
              "      --disabled-fill-color: #AAA;\n",
              "      --disabled-bg-color: #DDD;\n",
              "  }\n",
              "\n",
              "  [theme=dark] .colab-df-quickchart {\n",
              "      --bg-color: #3B4455;\n",
              "      --fill-color: #D2E3FC;\n",
              "      --hover-bg-color: #434B5C;\n",
              "      --hover-fill-color: #FFFFFF;\n",
              "      --disabled-bg-color: #3B4455;\n",
              "      --disabled-fill-color: #666;\n",
              "  }\n",
              "\n",
              "  .colab-df-quickchart {\n",
              "    background-color: var(--bg-color);\n",
              "    border: none;\n",
              "    border-radius: 50%;\n",
              "    cursor: pointer;\n",
              "    display: none;\n",
              "    fill: var(--fill-color);\n",
              "    height: 32px;\n",
              "    padding: 0;\n",
              "    width: 32px;\n",
              "  }\n",
              "\n",
              "  .colab-df-quickchart:hover {\n",
              "    background-color: var(--hover-bg-color);\n",
              "    box-shadow: 0 1px 2px rgba(60, 64, 67, 0.3), 0 1px 3px 1px rgba(60, 64, 67, 0.15);\n",
              "    fill: var(--button-hover-fill-color);\n",
              "  }\n",
              "\n",
              "  .colab-df-quickchart-complete:disabled,\n",
              "  .colab-df-quickchart-complete:disabled:hover {\n",
              "    background-color: var(--disabled-bg-color);\n",
              "    fill: var(--disabled-fill-color);\n",
              "    box-shadow: none;\n",
              "  }\n",
              "\n",
              "  .colab-df-spinner {\n",
              "    border: 2px solid var(--fill-color);\n",
              "    border-color: transparent;\n",
              "    border-bottom-color: var(--fill-color);\n",
              "    animation:\n",
              "      spin 1s steps(1) infinite;\n",
              "  }\n",
              "\n",
              "  @keyframes spin {\n",
              "    0% {\n",
              "      border-color: transparent;\n",
              "      border-bottom-color: var(--fill-color);\n",
              "      border-left-color: var(--fill-color);\n",
              "    }\n",
              "    20% {\n",
              "      border-color: transparent;\n",
              "      border-left-color: var(--fill-color);\n",
              "      border-top-color: var(--fill-color);\n",
              "    }\n",
              "    30% {\n",
              "      border-color: transparent;\n",
              "      border-left-color: var(--fill-color);\n",
              "      border-top-color: var(--fill-color);\n",
              "      border-right-color: var(--fill-color);\n",
              "    }\n",
              "    40% {\n",
              "      border-color: transparent;\n",
              "      border-right-color: var(--fill-color);\n",
              "      border-top-color: var(--fill-color);\n",
              "    }\n",
              "    60% {\n",
              "      border-color: transparent;\n",
              "      border-right-color: var(--fill-color);\n",
              "    }\n",
              "    80% {\n",
              "      border-color: transparent;\n",
              "      border-right-color: var(--fill-color);\n",
              "      border-bottom-color: var(--fill-color);\n",
              "    }\n",
              "    90% {\n",
              "      border-color: transparent;\n",
              "      border-bottom-color: var(--fill-color);\n",
              "    }\n",
              "  }\n",
              "</style>\n",
              "\n",
              "  <script>\n",
              "    async function quickchart(key) {\n",
              "      const quickchartButtonEl =\n",
              "        document.querySelector('#' + key + ' button');\n",
              "      quickchartButtonEl.disabled = true;  // To prevent multiple clicks.\n",
              "      quickchartButtonEl.classList.add('colab-df-spinner');\n",
              "      try {\n",
              "        const charts = await google.colab.kernel.invokeFunction(\n",
              "            'suggestCharts', [key], {});\n",
              "      } catch (error) {\n",
              "        console.error('Error during call to suggestCharts:', error);\n",
              "      }\n",
              "      quickchartButtonEl.classList.remove('colab-df-spinner');\n",
              "      quickchartButtonEl.classList.add('colab-df-quickchart-complete');\n",
              "    }\n",
              "    (() => {\n",
              "      let quickchartButtonEl =\n",
              "        document.querySelector('#df-0cf3d02c-ae99-4867-b456-3faf96110601 button');\n",
              "      quickchartButtonEl.style.display =\n",
              "        google.colab.kernel.accessAllowed ? 'block' : 'none';\n",
              "    })();\n",
              "  </script>\n",
              "</div>\n",
              "    </div>\n",
              "  </div>\n"
            ]
          },
          "metadata": {},
          "execution_count": 7
        }
      ]
    },
    {
      "cell_type": "code",
      "source": [
        "len(df)"
      ],
      "metadata": {
        "colab": {
          "base_uri": "https://localhost:8080/"
        },
        "id": "bH4ffc4qApLR",
        "outputId": "aaecdfc5-75c8-4f1f-c24e-058e0fb25119"
      },
      "execution_count": 8,
      "outputs": [
        {
          "output_type": "execute_result",
          "data": {
            "text/plain": [
              "2776"
            ]
          },
          "metadata": {},
          "execution_count": 8
        }
      ]
    },
    {
      "cell_type": "code",
      "source": [
        "# Очень неравномерные классы\n",
        "df.groupby('event_type').size()"
      ],
      "metadata": {
        "id": "TzMFKyJdAq3q",
        "colab": {
          "base_uri": "https://localhost:8080/"
        },
        "outputId": "4c0a2991-ce9e-4309-e0eb-f245a7264991"
      },
      "execution_count": 9,
      "outputs": [
        {
          "output_type": "execute_result",
          "data": {
            "text/plain": [
              "event_type\n",
              "advice         2438\n",
              "task_create     338\n",
              "dtype: int64"
            ]
          },
          "metadata": {},
          "execution_count": 9
        }
      ]
    },
    {
      "cell_type": "code",
      "source": [
        "df['rank'] = df.groupby('event_type').rank()\n",
        "df[df['rank']==10]"
      ],
      "metadata": {
        "colab": {
          "base_uri": "https://localhost:8080/",
          "height": 112
        },
        "id": "1u5UakH0CgXj",
        "outputId": "08236a06-d7d9-4e02-823c-f211b9650873"
      },
      "execution_count": 10,
      "outputs": [
        {
          "output_type": "execute_result",
          "data": {
            "text/plain": [
              "                                                Message   event_type  rank\n",
              "364           \"Как оценить проектный бюджет и затраты?\"       advice  10.0\n",
              "2636  Анна Кузнецова, разработайте лендинг для продв...  task_create  10.0"
            ],
            "text/html": [
              "\n",
              "  <div id=\"df-38aa7df7-6cb8-4bf2-98b2-5ff2f765ec29\" class=\"colab-df-container\">\n",
              "    <div>\n",
              "<style scoped>\n",
              "    .dataframe tbody tr th:only-of-type {\n",
              "        vertical-align: middle;\n",
              "    }\n",
              "\n",
              "    .dataframe tbody tr th {\n",
              "        vertical-align: top;\n",
              "    }\n",
              "\n",
              "    .dataframe thead th {\n",
              "        text-align: right;\n",
              "    }\n",
              "</style>\n",
              "<table border=\"1\" class=\"dataframe\">\n",
              "  <thead>\n",
              "    <tr style=\"text-align: right;\">\n",
              "      <th></th>\n",
              "      <th>Message</th>\n",
              "      <th>event_type</th>\n",
              "      <th>rank</th>\n",
              "    </tr>\n",
              "  </thead>\n",
              "  <tbody>\n",
              "    <tr>\n",
              "      <th>364</th>\n",
              "      <td>\"Как оценить проектный бюджет и затраты?\"</td>\n",
              "      <td>advice</td>\n",
              "      <td>10.0</td>\n",
              "    </tr>\n",
              "    <tr>\n",
              "      <th>2636</th>\n",
              "      <td>Анна Кузнецова, разработайте лендинг для продв...</td>\n",
              "      <td>task_create</td>\n",
              "      <td>10.0</td>\n",
              "    </tr>\n",
              "  </tbody>\n",
              "</table>\n",
              "</div>\n",
              "    <div class=\"colab-df-buttons\">\n",
              "\n",
              "  <div class=\"colab-df-container\">\n",
              "    <button class=\"colab-df-convert\" onclick=\"convertToInteractive('df-38aa7df7-6cb8-4bf2-98b2-5ff2f765ec29')\"\n",
              "            title=\"Convert this dataframe to an interactive table.\"\n",
              "            style=\"display:none;\">\n",
              "\n",
              "  <svg xmlns=\"http://www.w3.org/2000/svg\" height=\"24px\" viewBox=\"0 -960 960 960\">\n",
              "    <path d=\"M120-120v-720h720v720H120Zm60-500h600v-160H180v160Zm220 220h160v-160H400v160Zm0 220h160v-160H400v160ZM180-400h160v-160H180v160Zm440 0h160v-160H620v160ZM180-180h160v-160H180v160Zm440 0h160v-160H620v160Z\"/>\n",
              "  </svg>\n",
              "    </button>\n",
              "\n",
              "  <style>\n",
              "    .colab-df-container {\n",
              "      display:flex;\n",
              "      gap: 12px;\n",
              "    }\n",
              "\n",
              "    .colab-df-convert {\n",
              "      background-color: #E8F0FE;\n",
              "      border: none;\n",
              "      border-radius: 50%;\n",
              "      cursor: pointer;\n",
              "      display: none;\n",
              "      fill: #1967D2;\n",
              "      height: 32px;\n",
              "      padding: 0 0 0 0;\n",
              "      width: 32px;\n",
              "    }\n",
              "\n",
              "    .colab-df-convert:hover {\n",
              "      background-color: #E2EBFA;\n",
              "      box-shadow: 0px 1px 2px rgba(60, 64, 67, 0.3), 0px 1px 3px 1px rgba(60, 64, 67, 0.15);\n",
              "      fill: #174EA6;\n",
              "    }\n",
              "\n",
              "    .colab-df-buttons div {\n",
              "      margin-bottom: 4px;\n",
              "    }\n",
              "\n",
              "    [theme=dark] .colab-df-convert {\n",
              "      background-color: #3B4455;\n",
              "      fill: #D2E3FC;\n",
              "    }\n",
              "\n",
              "    [theme=dark] .colab-df-convert:hover {\n",
              "      background-color: #434B5C;\n",
              "      box-shadow: 0px 1px 3px 1px rgba(0, 0, 0, 0.15);\n",
              "      filter: drop-shadow(0px 1px 2px rgba(0, 0, 0, 0.3));\n",
              "      fill: #FFFFFF;\n",
              "    }\n",
              "  </style>\n",
              "\n",
              "    <script>\n",
              "      const buttonEl =\n",
              "        document.querySelector('#df-38aa7df7-6cb8-4bf2-98b2-5ff2f765ec29 button.colab-df-convert');\n",
              "      buttonEl.style.display =\n",
              "        google.colab.kernel.accessAllowed ? 'block' : 'none';\n",
              "\n",
              "      async function convertToInteractive(key) {\n",
              "        const element = document.querySelector('#df-38aa7df7-6cb8-4bf2-98b2-5ff2f765ec29');\n",
              "        const dataTable =\n",
              "          await google.colab.kernel.invokeFunction('convertToInteractive',\n",
              "                                                    [key], {});\n",
              "        if (!dataTable) return;\n",
              "\n",
              "        const docLinkHtml = 'Like what you see? Visit the ' +\n",
              "          '<a target=\"_blank\" href=https://colab.research.google.com/notebooks/data_table.ipynb>data table notebook</a>'\n",
              "          + ' to learn more about interactive tables.';\n",
              "        element.innerHTML = '';\n",
              "        dataTable['output_type'] = 'display_data';\n",
              "        await google.colab.output.renderOutput(dataTable, element);\n",
              "        const docLink = document.createElement('div');\n",
              "        docLink.innerHTML = docLinkHtml;\n",
              "        element.appendChild(docLink);\n",
              "      }\n",
              "    </script>\n",
              "  </div>\n",
              "\n",
              "\n",
              "<div id=\"df-bb383396-ac88-4204-a44c-ee6866044165\">\n",
              "  <button class=\"colab-df-quickchart\" onclick=\"quickchart('df-bb383396-ac88-4204-a44c-ee6866044165')\"\n",
              "            title=\"Suggest charts\"\n",
              "            style=\"display:none;\">\n",
              "\n",
              "<svg xmlns=\"http://www.w3.org/2000/svg\" height=\"24px\"viewBox=\"0 0 24 24\"\n",
              "     width=\"24px\">\n",
              "    <g>\n",
              "        <path d=\"M19 3H5c-1.1 0-2 .9-2 2v14c0 1.1.9 2 2 2h14c1.1 0 2-.9 2-2V5c0-1.1-.9-2-2-2zM9 17H7v-7h2v7zm4 0h-2V7h2v10zm4 0h-2v-4h2v4z\"/>\n",
              "    </g>\n",
              "</svg>\n",
              "  </button>\n",
              "\n",
              "<style>\n",
              "  .colab-df-quickchart {\n",
              "      --bg-color: #E8F0FE;\n",
              "      --fill-color: #1967D2;\n",
              "      --hover-bg-color: #E2EBFA;\n",
              "      --hover-fill-color: #174EA6;\n",
              "      --disabled-fill-color: #AAA;\n",
              "      --disabled-bg-color: #DDD;\n",
              "  }\n",
              "\n",
              "  [theme=dark] .colab-df-quickchart {\n",
              "      --bg-color: #3B4455;\n",
              "      --fill-color: #D2E3FC;\n",
              "      --hover-bg-color: #434B5C;\n",
              "      --hover-fill-color: #FFFFFF;\n",
              "      --disabled-bg-color: #3B4455;\n",
              "      --disabled-fill-color: #666;\n",
              "  }\n",
              "\n",
              "  .colab-df-quickchart {\n",
              "    background-color: var(--bg-color);\n",
              "    border: none;\n",
              "    border-radius: 50%;\n",
              "    cursor: pointer;\n",
              "    display: none;\n",
              "    fill: var(--fill-color);\n",
              "    height: 32px;\n",
              "    padding: 0;\n",
              "    width: 32px;\n",
              "  }\n",
              "\n",
              "  .colab-df-quickchart:hover {\n",
              "    background-color: var(--hover-bg-color);\n",
              "    box-shadow: 0 1px 2px rgba(60, 64, 67, 0.3), 0 1px 3px 1px rgba(60, 64, 67, 0.15);\n",
              "    fill: var(--button-hover-fill-color);\n",
              "  }\n",
              "\n",
              "  .colab-df-quickchart-complete:disabled,\n",
              "  .colab-df-quickchart-complete:disabled:hover {\n",
              "    background-color: var(--disabled-bg-color);\n",
              "    fill: var(--disabled-fill-color);\n",
              "    box-shadow: none;\n",
              "  }\n",
              "\n",
              "  .colab-df-spinner {\n",
              "    border: 2px solid var(--fill-color);\n",
              "    border-color: transparent;\n",
              "    border-bottom-color: var(--fill-color);\n",
              "    animation:\n",
              "      spin 1s steps(1) infinite;\n",
              "  }\n",
              "\n",
              "  @keyframes spin {\n",
              "    0% {\n",
              "      border-color: transparent;\n",
              "      border-bottom-color: var(--fill-color);\n",
              "      border-left-color: var(--fill-color);\n",
              "    }\n",
              "    20% {\n",
              "      border-color: transparent;\n",
              "      border-left-color: var(--fill-color);\n",
              "      border-top-color: var(--fill-color);\n",
              "    }\n",
              "    30% {\n",
              "      border-color: transparent;\n",
              "      border-left-color: var(--fill-color);\n",
              "      border-top-color: var(--fill-color);\n",
              "      border-right-color: var(--fill-color);\n",
              "    }\n",
              "    40% {\n",
              "      border-color: transparent;\n",
              "      border-right-color: var(--fill-color);\n",
              "      border-top-color: var(--fill-color);\n",
              "    }\n",
              "    60% {\n",
              "      border-color: transparent;\n",
              "      border-right-color: var(--fill-color);\n",
              "    }\n",
              "    80% {\n",
              "      border-color: transparent;\n",
              "      border-right-color: var(--fill-color);\n",
              "      border-bottom-color: var(--fill-color);\n",
              "    }\n",
              "    90% {\n",
              "      border-color: transparent;\n",
              "      border-bottom-color: var(--fill-color);\n",
              "    }\n",
              "  }\n",
              "</style>\n",
              "\n",
              "  <script>\n",
              "    async function quickchart(key) {\n",
              "      const quickchartButtonEl =\n",
              "        document.querySelector('#' + key + ' button');\n",
              "      quickchartButtonEl.disabled = true;  // To prevent multiple clicks.\n",
              "      quickchartButtonEl.classList.add('colab-df-spinner');\n",
              "      try {\n",
              "        const charts = await google.colab.kernel.invokeFunction(\n",
              "            'suggestCharts', [key], {});\n",
              "      } catch (error) {\n",
              "        console.error('Error during call to suggestCharts:', error);\n",
              "      }\n",
              "      quickchartButtonEl.classList.remove('colab-df-spinner');\n",
              "      quickchartButtonEl.classList.add('colab-df-quickchart-complete');\n",
              "    }\n",
              "    (() => {\n",
              "      let quickchartButtonEl =\n",
              "        document.querySelector('#df-bb383396-ac88-4204-a44c-ee6866044165 button');\n",
              "      quickchartButtonEl.style.display =\n",
              "        google.colab.kernel.accessAllowed ? 'block' : 'none';\n",
              "    })();\n",
              "  </script>\n",
              "</div>\n",
              "    </div>\n",
              "  </div>\n"
            ]
          },
          "metadata": {},
          "execution_count": 10
        }
      ]
    },
    {
      "cell_type": "code",
      "source": [
        "df['type'] = np.where(df['rank']<10, 'test', 'train')"
      ],
      "metadata": {
        "id": "odkOU1VnDGQq"
      },
      "execution_count": 11,
      "outputs": []
    },
    {
      "cell_type": "code",
      "source": [
        "ds_vocab = dict()\n",
        "\n",
        "for sent in df['Message'].str.split():\n",
        "    for word in sent:\n",
        "        word = word.lower()\n",
        "        for letter in word:\n",
        "          if not letter.isalpha() and not letter.isnumeric():\n",
        "            word=word.replace(letter, \"\")\n",
        "        if word not in ds_vocab:  # word has not been assigned an index yet\n",
        "            ds_vocab[word] = len(ds_vocab)  # Assign each word with a unique index\n",
        "print(ds_vocab)\n",
        "print(len(ds_vocab)) #3208\n"
      ],
      "metadata": {
        "colab": {
          "base_uri": "https://localhost:8080/"
        },
        "id": "_mk3mU-EhiNm",
        "outputId": "21e93fd2-09a9-4517-d6bb-1c1b86a9f05d"
      },
      "execution_count": 12,
      "outputs": [
        {
          "output_type": "stream",
          "name": "stdout",
          "text": [
            "{'как': 0, 'создать': 1, 'новую': 2, 'задачу': 3, 'в': 4, 'weeek': 5, 'назначить': 6, 'ответственного': 7, 'за': 8, 'установить': 9, 'срок': 10, 'выполнения': 11, 'задачи': 12, 'добавить': 13, 'описание': 14, 'к': 15, 'задаче': 16, 'прикрепить': 17, 'файл': 18, 'проект': 19, 'существующий': 20, 'какие': 21, 'виды': 22, 'задач': 23, 'поддерживает': 24, 'например': 25, 'проекты': 26, 'события': 27, 'организовать': 28, 'по': 29, 'категориям': 30, 'или': 31, 'меткам': 32, 'могу': 33, 'ли': 34, 'я': 35, 'приоритет': 36, 'для': 37, 'отметить': 38, 'завершенную': 39, 'отслеживать': 40, 'прогресс': 41, 'проектов': 42, 'список': 43, 'подобный': 44, 'списку': 45, 'trello': 46, 'доску': 47, 'с': 48, 'задачами': 49, 'чеклист': 50, 'уведомления': 51, 'работают': 52, 'настроить': 53, 'напоминания': 54, 'о': 55, 'задачах': 56, 'и': 57, 'событиях': 58, 'можно': 59, 'экспортировать': 60, 'из': 61, 'другие': 62, 'форматы': 63, 'csv': 64, 'функции': 65, 'синхронизации': 66, 'доступны': 67, 'между': 68, 'календарями': 69, 'такими': 70, 'google': 71, 'calendar': 72, 'свой': 73, 'собственный': 74, 'шаблон': 75, 'отчетов': 76, 'аналитики': 77, 'предоставляет': 78, 'управления': 79, 'проектами': 80, 'использовать': 81, 'работы': 82, 'команде': 83, 'делегирования': 84, 'участниками': 85, 'доступ': 86, 'задачам': 87, 'проектам': 88, 'членов': 89, 'команды': 90, 'интегрировать': 91, 'другими': 92, 'инструментами': 93, 'slack': 94, 'microsoft': 95, 'teams': 96, 'сравнения': 97, 'интеграции': 98, 'сравнению': 99, 'asana': 100, 'основные': 101, 'отличия': 102, 'преимущества': 103, 'использования': 104, 'перед': 105, 'jira': 106, 'создавать': 107, 'пользовательские': 108, 'поля': 109, 'метки': 110, 'работает': 111, 'система': 112, 'уведомлений': 113, 'автоматизации': 114, 'через': 115, 'электронную': 116, 'почту': 117, 'встроенные': 118, 'приложениями': 119, 'мобильных': 120, 'устройств': 121, 'зависимость': 122, 'представлений': 123, 'план': 124, 'календарь': 125, 'доска': 126, 'возможности': 127, 'фильтрации': 128, 'сортировки': 129, 'сравнить': 130, 'функциональность': 131, 'функциональностью': 132, 'clickup': 133, 'оценивается': 134, 'производительность': 135, 'эффективность': 136, 'кастомные': 137, 'отчеты': 138, 'выполнении': 139, 'виджеты': 140, 'на': 141, 'рабочий': 142, 'стол': 143, 'быстрого': 144, 'доступа': 145, 'интеграцию': 146, 'системой': 147, 'учета': 148, 'рабочего': 149, 'времени': 150, 'методологии': 151, 'канбан': 152, 'kanban': 153, 'tool': 154, 'публичный': 155, 'определенным': 156, 'большими': 157, 'множеством': 158, 'этапов': 159, 'обратной': 160, 'связи': 161, 'комментирования': 162, 'инструменты': 163, 'планирования': 164, 'ресурсами': 165, 'автоматическое': 166, 'назначение': 167, 'основе': 168, 'приоритетов': 169, 'интеграциями': 170, 'mondaycom': 171, 'которая': 172, 'повторяется': 173, 'регулярно': 174, 'проектный': 175, 'график': 176, 'диаграмму': 177, 'ганта': 178, 'создание': 179, 'электронных': 180, 'писем': 181, 'подобно': 182, 'зависимостям': 183, 'project': 184, 'git': 185, 'контролем': 186, 'версий': 187, 'опции': 188, 'импорта': 189, 'данных': 190, 'перехода': 191, 'других': 192, 'инструментов': 193, 'аналитические': 194, 'дашборды': 195, 'анализа': 196, 'производительности': 197, 'личными': 198, 'множественных': 199, 'календарем': 200, 'экспорта': 201, 'событий': 202, 'временем': 203, 'архивирования': 204, 'восстановления': 205, 'есть': 206, 'автоматические': 207, 'действия': 208, 'мобильное': 209, 'приложение': 210, 'командной': 211, 'легко': 212, 'внедрить': 213, 'scrum': 214, 'prince2': 215, 'облачными': 216, 'хранилищами': 217, 'файлов': 218, 'dropbox': 219, 'drive': 220, 'управлять': 221, 'распределением': 222, 'членами': 223, 'голосовые': 224, 'siri': 225, 'assistant': 226, 'системами': 227, 'бюджетом': 228, 'финансами': 229, 'больших': 230, 'корпоративных': 231, 'команд': 232, 'клиентами': 233, 'crm': 234, 'внешних': 235, 'клиентов': 236, 'партнеров': 237, 'шаблоны': 238, 'повторного': 239, 'командами': 240, 'разнообразными': 241, 'ролями': 242, 'электронной': 243, 'почтой': 244, 'видеоконференций': 245, 'zoom': 246, 'помощью': 247, 'мобильного': 248, 'устройства': 249, 'работ': 250, 'зависимости': 251, 'отчетности': 252, 'оценки': 253, 'эффективности': 254, 'от': 255, 'их': 256, 'важности': 257, 'срочности': 258, 'группы': 259, 'легкой': 260, 'навигации': 261, 'методы': 262, 'багами': 263, 'ошибками': 264, 'подобными': 265, 'bugzilla': 266, 'форм': 267, 'отправляемых': 268, 'вебсайт': 269, 'документацию': 270, 'инструкции': 271, 'привлечь': 272, 'консультантов': 273, 'специалистов': 274, 'выполнению': 275, 'критические': 276, 'показатели': 277, 'метрики': 278, 'ресурсов': 279, 'оптимизации': 280, 'персонала': 281, 'будет': 282, 'повторяться': 283, 'каждую': 284, 'неделю': 285, 'месяц': 286, 'стоимость': 287, 'проекта': 288, 'совместной': 289, 'обсуждения': 290, 'оплаты': 291, 'труда': 292, 'оценить': 293, 'продуктивность': 294, 'при': 295, 'использовании': 296, 'стартапов': 297, 'малых': 298, 'компаний': 299, 'бизнесаналитики': 300, 'так': 301, 'разными': 302, 'видами': 303, 'регулярные': 304, 'просроченных': 305, 'приоритетам': 306, 'дополнительные': 307, 'контроля': 308, 'gitlab': 309, 'оценивать': 310, 'затраты': 311, 'функцию': 312, 'формами': 313, 'сроками': 314, 'руководства': 315, 'проекту': 316, 'которые': 317, 'автоматически': 318, 'повторяются': 319, 'расписанию': 320, 'устанавливать': 321, 'подзадачами': 322, 'данные': 323, 'формате': 324, 'json': 325, 'ускорения': 326, 'создания': 327, 'новых': 328, 'несколькими': 329, 'автоматическую': 330, 'отправку': 331, 'почте': 332, 'повторяющимися': 333, 'этапами': 334, 'workspace': 335, 'над': 336, 'большим': 337, 'количеством': 338, 'разделить': 339, 'ее': 340, 'этапы': 341, 'clockify': 342, 'предоставляют': 343, 'затраченного': 344, 'smsсообщения': 345, 'заполненных': 346, 'импортировать': 347, 'excel': 348, 'начинаются': 349, 'заканчиваются': 350, 'определенные': 351, 'дни': 352, 'недели': 353, 'дизайна': 354, 'adobe': 355, 'creative': 356, 'cloud': 357, 'могут': 358, 'быть': 359, 'только': 360, 'членам': 361, 'расходов': 362, 'отслеживания': 363, 'бюджета': 364, 'предоставляются': 365, 'визуализации': 366, 'дашбордов': 367, 'определенных': 368, 'правил': 369, 'нестандартными': 370, 'периодами': 371, 'повторения': 372, 'использованием': 373, 'черновики': 374, 'временного': 375, 'сохранения': 376, 'заказами': 377, 'инвентаризации': 378, 'выполнение': 379, 'часы': 380, 'дня': 381, 'доступность': 382, 'загруженность': 383, 'участников': 384, 'поиск': 385, 'поиска': 386, 'входящих': 387, 'множественными': 388, 'ответственными': 389, 'тестирования': 390, 'качества': 391, 'testrail': 392, 'временные': 393, 'напоминаний': 394, 'контентом': 395, 'такой': 396, 'wordpress': 397, 'архив': 398, 'хранения': 399, 'завершенных': 400, 'генерирует': 401, 'подзадачи': 402, 'создании': 403, 'разных': 404, 'часовых': 405, 'поясах': 406, 'инцидентами': 407, 'servicenow': 408, 'динамическими': 409, 'зависящими': 410, 'правила': 411, 'автоматизацию': 412, 'затрат': 413, 'бюджетирования': 414, 'объемом': 415, 'генерацию': 416, 'просмотра': 417, 'всем': 418, 'сотрудникам': 419, 'компании': 420, 'советы': 421, 'рекомендации': 422, 'улучшения': 423, 'персоналом': 424, 'воздействия': 425, 'подзадач': 426, 'agile': 427, 'предприятием': 428, 'erp': 429, 'интерактивные': 430, 'назначаются': 431, 'участникам': 432, 'приложений': 433, 'таких': 434, 'basecamp': 435, 'распределения': 436, 'риски': 437, 'проектах': 438, 'переносятся': 439, 'следующий': 440, 'день': 441, 'waterfall': 442, 'складом': 443, 'поставками': 444, 'анализ': 445, 'следующую': 446, 'активов': 447, 'оборудования': 448, 'качество': 449, 'lean': 450, 'закупками': 451, 'затратах': 452, 'всех': 453, 'квартал': 454, 'инцидентов': 455, 'аварий': 456, 'удовлетворенность': 457, 'год': 458, 'интеллектуальной': 459, 'собственностью': 460, 'важность': 461, 'приоритетность': 462, 'системы': 463, 'оценок': 464, 'клиентам': 465, 'six': 466, 'sigma': 467, 'активами': 468, 'оборудованием': 469, 'рисками': 470, 'режиме': 471, 'оффлайн': 472, 'повторением': 473, 'рабочим': 474, 'дням': 475, 'документами': 476, 'paper': 477, 'контрагентами': 478, 'сообщения': 479, 'чате': 480, 'нагрузку': 481, 'загрузку': 482, 'конфликтами': 483, 'разрешения': 484, 'споров': 485, 'наоборот': 486, 'метрик': 487, 'процессов': 488, 'гибкий': 489, 'учетом': 490, 'глобальных': 491, 'различий': 492, 'во': 493, 'оповещения': 494, 'экстренного': 495, 'пути': 496, 'нескольких': 497, 'языках': 498, 'объемами': 499, 'назначаться': 500, 'ближайшего': 501, 'свободного': 502, 'сотрудника': 503, 'tableau': 504, 'собственные': 505, 'документов': 506, 'различными': 507, 'одной': 508, 'учетной': 509, 'записи': 510, 'качеством': 511, 'запасов': 512, 'будут': 513, 'заданным': 514, 'интервалом': 515, 'реальном': 516, 'salesforce': 517, 'затратами': 518, 'отображения': 519, 'ключевых': 520, 'показателей': 521, 'соответствии': 522, 'методологией': 523, 'обучением': 524, 'обучающими': 525, 'платформами': 526, 'критическими': 527, 'создаваться': 528, 'условиях': 529, 'запасами': 530, 'логистикой': 531, 'производительностью': 532, 'складами': 533, 'инвентаризацией': 534, 'работой': 535, 'фрилансеров': 536, 'исполнителей': 537, 'получении': 538, 'заказов': 539, 'запросов': 540, 'внутренних': 541, 'подрядчиков': 542, 'связываться': 543, 'определенными': 544, 'заказчиками': 545, 'инвестициями': 546, 'эффективностью': 547, 'рекламных': 548, 'кампаний': 549, 'маркетинговых': 550, 'сопоставляться': 551, 'продуктами': 552, 'услугами': 553, 'планированием': 554, 'мероприятий': 555, 'конференций': 556, 'обучающих': 557, 'программ': 558, 'курсов': 559, 'ассоциироваться': 560, 'инициативами': 561, 'законодательством': 562, 'юридическими': 563, 'программы': 564, 'анализировать': 565, 'прогнозировать': 566, 'требуемые': 567, 'ресурсы': 568, 'prism': 569, 'безопасностью': 570, 'инновациями': 571, 'исследованиями': 572, 'разработками': 573, 'адаптировать': 574, 'планы': 575, 'изменяющихся': 576, 'условий': 577, 'страхованием': 578, 'обслуживанием': 579, 'технической': 580, 'поддержкой': 581, 'учитывать': 582, 'изменения': 583, 'курсах': 584, 'валют': 585, 'рыночных': 586, 'scrumban': 587, 'защитой': 588, 'обновлениями': 589, 'релизами': 590, 'адаптироваться': 591, 'изменяющимся': 592, 'требованиям': 593, 'экологической': 594, 'устойчивостью': 595, 'социальной': 596, 'ответственностью': 597, 'медицинскими': 598, 'клиническими': 599, 'испытаниями': 600, 'потребностью': 601, 'ресурсах': 602, 'startup': 603, 'уровнем': 604, 'обслуживания': 605, 'sla': 606, 'событиями': 607, 'мероприятиями': 608, 'требования': 609, 'производству': 610, 'total': 611, 'quality': 612, 'management': 613, 'tqm': 614, 'связью': 615, 'коммуникациями': 616, 'образовательными': 617, 'курсами': 618, 'способы': 619, 'существуют': 620, 'организации': 621, 'системе': 622, 'установления': 623, 'сроков': 624, 'делегировать': 625, 'определить': 626, 'ответственных': 627, 'него': 628, 'связанные': 629, 'управлении': 630, 'массовых': 631, 'операций': 632, 'рабочее': 633, 'пространство': 634, 'командную': 635, 'совместную': 636, 'работу': 637, 'внешней': 638, 'применить': 639, 'удобной': 640, 'сторон': 641, 'настройки': 642, 'приоритетом': 643, 'сроком': 644, 'логическую': 645, 'последовательность': 646, 'риск': 647, 'соответствующие': 648, 'критериев': 649, 'точки': 650, 'зрения': 651, 'roi': 652, 'зависимостью': 653, 'другой': 654, 'приложения': 655, 'бюджет': 656, 'пользовательских': 657, 'пользователей': 658, 'дорожных': 659, 'карт': 660, 'бизнеспроцессов': 661, 'продвижение': 662, 'этапам': 663, 'майлстонам': 664, 'рисков': 665, 'проблем': 666, 'предварительным': 667, 'типами': 668, 'целей': 669, 'kpi': 670, 'создасть': 671, 'задачку': 672, 'срокам': 673, 'настройкам': 674, 'уведомлениий': 675, 'использовасть': 676, 'добавиь': 677, 'задачки': 678, 'приоритета': 679, 'результативность': 680, 'задачками': 681, 'предлагаются': 682, 'использованы': 683, 'группу': 684, 'периодически': 685, 'страницу': 686, 'запись': 687, 'базе': 688, 'знаний': 689, 'структуру': 690, 'базы': 691, 'удобного': 692, 'информации': 693, 'форматирования': 694, 'текста': 695, 'вставки': 696, 'мультимедийных': 697, 'элементов': 698, 'различных': 699, 'групп': 700, 'добавлять': 701, 'обновлять': 702, 'информацию': 703, 'степень': 704, 'доступности': 705, 'удобства': 706, 'записями': 707, 'страницами': 708, 'таблиц': 709, 'баз': 710, 'рамках': 711, 'страницы': 712, 'шаблонами': 713, 'записей': 714, 'уровень': 715, 'безопасности': 716, 'защиты': 717, 'резервного': 718, 'копирования': 719, 'версиями': 720, 'изменений': 721, 'базой': 722, 'проведенного': 723, 'страниц': 724, 'популярности': 725, 'изменениях': 726, 'записях': 727, 'процесс': 728, 'конвертации': 729, 'систем': 730, 'базу': 731, 'внутреннего': 732, 'обучающие': 733, 'материалы': 734, 'учебные': 735, 'курсы': 736, 'вне': 737, 'офиса': 738, 'индексацию': 739, 'категоризацию': 740, 'упрощения': 741, 'обмена': 742, 'информацией': 743, 'клиентской': 744, 'что': 745, 'такое': 746, 'методология': 747, 'принципы': 748, 'лежат': 749, 'чем': 750, 'разница': 751, 'подходят': 752, 'зачем': 753, 'роли': 754, 'проекте': 755, 'agileпроцесса': 756, 'артефакты': 757, 'используются': 758, 'практики': 759, 'разработки': 760, 'использует': 761, 'agileпроектов': 762, 'почему': 763, 'считается': 764, 'гибким': 765, 'подходом': 766, 'управлению': 767, 'традиционными': 768, 'методологиями': 769, 'вызовы': 770, 'внедрении': 771, 'поддерживают': 772, 'agileпроцесс': 773, 'выполняют': 774, 'product': 775, 'owner': 776, 'master': 777, 'agileкоманде': 778, 'создает': 779, 'tdd': 780, 'testdriven': 781, 'development': 782, 'cicd': 783, 'continuous': 784, 'integrationcontinuous': 785, 'deployment': 786, 'какой': 787, 'применяется': 788, 'происходит': 789, 'планирование': 790, 'спринтов': 791, 'сложности': 792, 'измерения': 793, 'важны': 794, 'обеспечения': 795, 'прозрачности': 796, 'процесса': 797, 'происходят': 798, 'протяжении': 799, 'жизненного': 800, 'цикла': 801, 'спринта': 802, 'пределами': 803, 'требованиями': 804, 'отвечают': 805, 'управление': 806, 'прогресса': 807, 'досок': 808, 'обеспечивают': 809, 'высокую': 810, 'коллаборации': 811, 'обучение': 812, 'развитие': 813, 'изменениями': 814, 'продукта': 815, 'приоритизации': 816, 'коммуникации': 817, 'заказчиком': 818, 'применяются': 819, 'обеспечение': 820, 'стейкхолдерами': 821, 'удовлетворенности': 822, 'заказчика': 823, 'требованиях': 824, 'устойчивость': 825, 'кода': 826, 'обучения': 827, 'развития': 828, 'зависимостями': 829, 'степени': 830, 'готовности': 831, 'интеграцией': 832, 'компонентов': 833, 'доставкой': 834, 'процессом': 835, 'документацией': 836, 'знанием': 837, 'проектной': 838, 'командой': 839, 'оценкой': 840, 'анализом': 841, 'долгосрочными': 842, 'стратегиями': 843, 'архитектурой': 844, 'дизайном': 845, 'культурой': 846, 'инфраструктурой': 847, 'стоимости': 848, 'методами': 849, 'лучше': 850, 'всего': 851, 'канбандоски': 852, 'шаги': 853, 'нужно': 854, 'предпринять': 855, 'внедрения': 856, 'ключевые': 857, 'ограничения': 858, 'канбандоске': 859, 'ограничение': 860, 'элементам': 861, 'wip': 862, 'оптимальное': 863, 'количество': 864, 'рабочих': 865, 'обязанности': 866, 'определены': 867, 'канбанпроцессе': 868, 'обычно': 869, 'включаются': 870, 'колонку': 871, 'готово': 872, 'процессе': 873, 'утверждении': 874, 'ожидании': 875, 'важно': 876, 'визуализировать': 877, 'поток': 878, 'помочь': 879, 'канбанпроцесса': 880, 'лимитирования': 881, 'соблюдаются': 882, 'считаются': 883, 'расчете': 884, 'вести': 885, 'журнал': 886, 'типы': 887, 'потребовать': 888, 'требуют': 889, 'вмешательства': 890, 'определения': 891, 'собрания': 892, 'проводятся': 893, 'обеспечивать': 894, 'стабильность': 895, 'непрерывность': 896, 'канбансистемы': 897, 'возникнуть': 898, 'каким': 899, 'образом': 900, 'приоритетами': 901, 'лучшие': 902, 'избежать': 903, 'перегрузки': 904, 'специальных': 905, 'потока': 906, 'мониторинга': 907, 'дополнительного': 908, 'качественного': 909, 'потоке': 910, 'оценке': 911, 'оптимизировать': 912, 'сложными': 913, 'наилучшими': 914, 'крупных': 915, 'организациях': 916, 'долгими': 917, 'высокой': 918, 'степенью': 919, 'неопределенности': 920, 'параллельных': 921, 'стоимостью': 922, 'эффективными': 923, 'надеюсь': 924, 'эти': 925, 'вопросы': 926, 'полезными': 927, 'изменяющимися': 928, 'выполняемых': 929, 'требующими': 930, 'согласования': 931, 'утверждения': 932, 'внутри': 933, 'имеющими': 934, 'строгие': 935, 'сроки': 936, 'наиболее': 937, 'экспертизы': 938, 'динамически': 939, 'сложных': 940, 'интеграций': 941, 'нужна': 942, 'роль': 943, 'backlog': 944, 'создается': 945, 'поддерживается': 946, 'выполняет': 947, 'team': 948, 'включает': 949, 'себя': 950, 'sprint': 951, 'planning': 952, 'цели': 953, 'ставятся': 954, 'review': 955, 'важен': 956, 'daily': 957, 'definition': 958, 'of': 959, 'done': 960, 'dod': 961, 'может': 962, 'предоставить': 963, 'проектом': 964, 'типичные': 965, 'проблемы': 966, 'возникают': 967, 'goal': 968, 'внесены': 969, 'помимо': 970, 'основных': 971, 'состоит': 972, 'ценность': 973, 'воплощает': 974, 'управляются': 975, 'используется': 976, 'нужен': 977, 'retrospective': 978, 'релизов': 979, 'период': 980, 'выбирается': 981, 'составляют': 982, 'масштабировании': 983, 'большие': 984, 'критерии': 985, 'позволяют': 986, 'завершить': 987, 'user': 988, 'story': 989, 'определяются': 990, 'приоритеты': 991, 'обновления': 992, 'следует': 993, 'мнение': 994, 'принесет': 995, 'связаны': 996, 'оцениваются': 997, 'входят': 998, 'заключается': 999, 'stakeholderов': 1000, 'проведены': 1001, 'онлайн': 1002, 'самоорганизации': 1003, 'присутствуют': 1004, 'бюрократия': 1005, 'контексте': 1006, 'получить': 1007, 'заказчики': 1008, 'сложность': 1009, 'velocity': 1010, 'компанию': 1011, 'участвуют': 1012, 'планировании': 1013, 'обучаемости': 1014, 'учитываются': 1015, 'возлагаются': 1016, 'время': 1017, 'release': 1018, 'train': 1019, 'engineer': 1020, 'rte': 1021, 'масштабированных': 1022, 'обеспечивается': 1023, 'прозрачность': 1024, 'внедряются': 1025, 'scrums': 1026, 'помогает': 1027, 'принятия': 1028, 'решений': 1029, 'не': 1030, 'укладываются': 1031, 'адаптированы': 1032, 'методологий': 1033, 'помогают': 1034, 'регулярной': 1035, 'принятие': 1036, 'готового': 1037, 'соблюдение': 1038, 'типов': 1039, 'представляет': 1040, 'собой': 1041, 'главное': 1042, 'отличие': 1043, 'играют': 1044, 'участники': 1045, 'какова': 1046, 'основная': 1047, 'цель': 1048, 'применения': 1049, 'имеют': 1050, 'использующие': 1051, 'методологию': 1052, 'главный': 1053, 'недостаток': 1054, 'подходами': 1055, 'рекомендуется': 1056, 'применении': 1057, 'стоит': 1058, 'выбирать': 1059, 'успешной': 1060, 'реализации': 1061, 'проектного': 1062, 'менеджера': 1063, 'факторы': 1064, 'учесть': 1065, 'определении': 1066, 'временных': 1067, 'рамок': 1068, 'клиента': 1069, 'использующем': 1070, 'контроль': 1071, 'этапах': 1072, 'предотвратить': 1073, 'определяют': 1074, 'успешное': 1075, 'завершение': 1076, 'каждого': 1077, 'этапа': 1078, 'осуществляется': 1079, 'внести': 1080, 'после': 1081, 'завершения': 1082, 'коммуникация': 1083, 'моменты': 1084, 'разработке': 1085, 'графика': 1086, 'подготовка': 1087, 'передача': 1088, 'результатов': 1089, 'фазы': 1090, 'стейкхолдеров': 1091, 'предназначены': 1092, 'оценка': 1093, 'завершении': 1094, 'каждой': 1095, 'предъявляются': 1096, 'заключаются': 1097, 'разделения': 1098, 'обязанностей': 1099, 'ходе': 1100, 'повлиять': 1101, 'сбора': 1102, 'закрытие': 1103, 'документирования': 1104, 'требований': 1105, 'тестирование': 1106, 'верификация': 1107, 'qaспециалистов': 1108, 'подходы': 1109, 'открытость': 1110, 'мониторинге': 1111, 'определяется': 1112, 'необходимость': 1113, 'влияют': 1114, 'выбор': 1115, 'том': 1116, 'числе': 1117, 'выделения': 1118, 'критерий': 1119, 'успешности': 1120, 'плана': 1121, 'адаптация': 1122, 'под': 1123, 'специфические': 1124, 'потребности': 1125, 'метода': 1126, 'подвержены': 1127, 'наибольшему': 1128, 'риску': 1129, 'принцип': 1130, 'последовательности': 1131, 'согласованности': 1132, 'совместимости': 1133, 'фазами': 1134, 'объем': 1135, 'каждом': 1136, 'этапе': 1137, 'формировании': 1138, 'распределение': 1139, 'документации': 1140, 'фазах': 1141, 'формируется': 1142, 'тестировщиков': 1143, 'аналитика': 1144, 'подготовке': 1145, 'утверждаются': 1146, 'взаимодействие': 1147, 'тимлида': 1148, 'наибольшим': 1149, 'рискам': 1150, 'случае': 1151, 'возникновения': 1152, 'решаются': 1153, 'конфликты': 1154, 'архитектора': 1155, 'решения': 1156, 'переходе': 1157, 'следующему': 1158, 'этапу': 1159, 'внедрение': 1160, 'команда': 1161, 'распределяются': 1162, 'тестировании': 1163, 'поддержка': 1164, 'обслуживание': 1165, 'фаз': 1166, 'изменении': 1167, 'измеряются': 1168, 'технического': 1169, 'лидера': 1170, 'проведение': 1171, 'бизнесаналитика': 1172, 'расписание': 1173, 'стоят': 1174, 'приоритетах': 1175, 'аудитора': 1176, 'изменениям': 1177, 'результативности': 1178, 'фаза': 1179, 'инициации': 1180, 'исполняются': 1181, 'строго': 1182, 'следовать': 1183, 'самом': 1184, 'раннем': 1185, 'документы': 1186, 'основу': 1187, 'играет': 1188, 'важную': 1189, 'уделять': 1190, 'особое': 1191, 'внимание': 1192, 'определение': 1193, 'активно': 1194, 'вовлекать': 1195, 'поздних': 1196, 'проводить': 1197, 'проверки': 1198, 'менеджер': 1199, 'должен': 1200, 'тщательно': 1201, 'планировать': 1202, 'каждому': 1203, 'необходимо': 1204, 'специфике': 1205, 'осуществлять': 1206, 'постоянное': 1207, 'каждый': 1208, 'этап': 1209, 'производится': 1210, 'регулярное': 1211, 'обновление': 1212, 'элементы': 1213, 'leanпроекта': 1214, 'основное': 1215, 'преимущество': 1216, 'проектном': 1217, 'оптимизация': 1218, 'вместо': 1219, 'вовлечение': 1220, 'leanпроекте': 1221, 'руководителя': 1222, 'leanметодологии': 1223, 'пошагового': 1224, 'ориентации': 1225, 'потребителя': 1226, 'leanпроектах': 1227, 'непрерывного': 1228, 'принципам': 1229, 'процессами': 1230, 'leanметодологию': 1231, 'принципов': 1232, 'корпоративной': 1233, 'культуре': 1234, 'техники': 1235, 'минимизации': 1236, 'избыточных': 1237, 'движений': 1238, 'всей': 1239, 'цикл': 1240, 'pdca': 1241, 'plandocheckact': 1242, 'применением': 1243, 'agileметодологии': 1244, 'поддерживать': 1245, 'специфику': 1246, 'конкретного': 1247, '5s': 1248, 'уровня': 1249, 'обеспечении': 1250, 'оптимальный': 1251, 'размер': 1252, 'активное': 1253, 'участие': 1254, 'leanпроект': 1255, 'учитывает': 1256, 'ожидания': 1257, 'повышения': 1258, 'высокий': 1259, 'мотивации': 1260, 'аспекты': 1261, 'устойчивости': 1262, 'экологичности': 1263, 'мониторинг': 1264, 'стремиться': 1265, 'уменьшению': 1266, 'управляет': 1267, 'гибкости': 1268, 'анализе': 1269, 'leanподхода': 1270, 'человеческого': 1271, 'фактора': 1272, 'постоянному': 1273, 'совершенствованию': 1274, 'поддержании': 1275, 'отрасли': 1276, 'предметной': 1277, 'области': 1278, 'manager': 1279, 'включены': 1280, 'business': 1281, 'case': 1282, 'обновляется': 1283, 'board': 1284, 'steering': 1285, 'committee': 1286, 'определять': 1287, 'senior': 1288, 'prince2проекте': 1289, 'supplier': 1290, 'prince2методологию': 1291, 'assurance': 1292, 'pid': 1293, 'initiation': 1294, 'documentation': 1295, 'prince2проекта': 1296, 'prince2проектах': 1297, 'change': 1298, 'authority': 1299, 'различия': 1300, 'масштабе': 1301, 'маленьких': 1302, 'до': 1303, 'чтобы': 1304, 'минимизировать': 1305, 'воздействие': 1306, 'актуальность': 1307, 'надежность': 1308, 'выполнением': 1309, 'support': 1310, 'процессы': 1311, 'основам': 1312, 'stakeholder': 1313, 'engagement': 1314, 'портфеле': 1315, 'выравнивание': 1316, 'бизнесстратегией': 1317, 'контроле': 1318, 'переменные': 1319, 'культурные': 1320, 'географические': 1321, 'особенности': 1322, 'использоваться': 1323, 'обеспечивает': 1324, 'непрерывное': 1325, 'улучшение': 1326, 'инноваций': 1327, 'короткосрочными': 1328, 'решает': 1329, 'управлением': 1330, 'ожиданиями': 1331, 'различные': 1332, 'изменением': 1333, 'состава': 1334, 'течение': 1335, 'body': 1336, 'knowledge': 1337, 'pmbok': 1338, 'нужны': 1339, 'стандарты': 1340, 'согласно': 1341, 'управляется': 1342, 'scope': 1343, 'процессах': 1344, 'включают': 1345, 'отчетность': 1346, 'office': 1347, 'pmo': 1348, 'stakeholderами': 1349, 'communications': 1350, 'экологичность': 1351, 'control': 1352, 'pmbokпроекте': 1353, 'факторов': 1354, 'среды': 1355, 'начале': 1356, 'бизнестребований': 1357, 'оценку': 1358, 'заинтересованных': 1359, 'развитием': 1360, 'соответствие': 1361, 'бизнесстратегии': 1362, 'заинтересованными': 1363, 'сторонами': 1364, 'организационной': 1365, 'managing': 1366, 'successful': 1367, 'programmes': 1368, 'msp': 1369, 'они': 1370, 'взаимосвязаны': 1371, 'программами': 1372, 'программе': 1373, 'benefits': 1374, 'realization': 1375, 'blueprint': 1376, 'responsible': 1377, 'sro': 1378, 'programme': 1379, 'программой': 1380, 'компонентами': 1381, 'конкретной': 1382, 'использование': 1383, 'адаптацию': 1384, 'среде': 1385, 'распределенными': 1386, 'бизнеспроцессах': 1387, 'выработки': 1388, 'стратегии': 1389, 'регулирует': 1390, 'бизнесмоделей': 1391, 'масштабирование': 1392, 'уровне': 1393, 'предприятия': 1394, 'преодолеть': 1395, 'согласованность': 1396, 'стратегическими': 1397, 'целями': 1398, 'предоставлять': 1399, 'сбор': 1400, 'выявления': 1401, 'реагирования': 1402, 'окружающей': 1403, 'выработку': 1404, 'стратегией': 1405, 'бизнесюнит': 1406, 'реализацию': 1407, 'вовлечения': 1408, 'программу': 1409, '1': 1410, 'pism': 1411, '2': 1412, '3': 1413, '4': 1414, '5': 1415, 'устойчивые': 1416, '6': 1417, 'компоненты': 1418, '7': 1419, 'экологические': 1420, '8': 1421, 'социальную': 1422, 'ответственность': 1423, '9': 1424, '10': 1425, '11': 1426, 'внедрять': 1427, 'устойчивого': 1428, '12': 1429, 'экологическими': 1430, '13': 1431, 'меры': 1432, 'энергосбережению': 1433, '14': 1434, 'материалов': 1435, '15': 1436, 'этики': 1437, '16': 1438, 'экономической': 1439, '17': 1440, 'социокультурные': 1441, '18': 1442, 'климатических': 1443, '19': 1444, 'взаимодействует': 1445, 'существующими': 1446, 'стандартами': 1447, '20': 1448, 'устойчивых': 1449, 'методов': 1450, '21': 1451, 'концепция': 1452, 'зеленых': 1453, 'технологий': 1454, '22': 1455, '23': 1456, '24': 1457, 'предусмотрены': 1458, '25': 1459, 'стратегическое': 1460, '26': 1461, 'данными': 1462, '27': 1463, 'влияет': 1464, 'поставщиков': 1465, '28': 1466, '29': 1467, '30': 1468, '31': 1469, 'возобновляемых': 1470, '32': 1471, 'окружающую': 1472, 'среду': 1473, '33': 1474, 'справедливости': 1475, '34': 1476, 'социальными': 1477, '35': 1478, 'строительных': 1479, '36': 1480, 'касаются': 1481, 'водных': 1482, '37': 1483, 'земельными': 1484, '38': 1485, 'технологическими': 1486, '39': 1487, 'экологически': 1488, 'инфраструктурных': 1489, 'объектов': 1490, '40': 1491, 'честного': 1492, '41': 1493, 'стандартов': 1494, '42': 1495, 'снижения': 1496, 'выбросов': 1497, '43': 1498, 'экологических': 1499, 'аспектов': 1500, '44': 1501, 'энергопотребления': 1502, '45': 1503, 'энергосбережения': 1504, '46': 1505, 'общественности': 1506, '47': 1507, 'соблюдать': 1508, 'транспарентности': 1509, '48': 1510, 'отходами': 1511, '49': 1512, 'биоразнообразием': 1513, '50': 1514, 'социальные': 1515, 'выборе': 1516, 'местоположения': 1517, '51': 1518, 'городских': 1519, '52': 1520, 'социокультурных': 1521, 'особенностей': 1522, '53': 1523, 'людей': 1524, 'ограниченными': 1525, 'возможностями': 1526, '54': 1527, 'цифровой': 1528, 'трансформации': 1529, '55': 1530, 'эффективного': 1531, 'изменяющегося': 1532, 'климата': 1533, '56': 1534, 'кругового': 1535, '57': 1536, 'сфере': 1537, 'транспорта': 1538, '58': 1539, '59': 1540, 'негативного': 1541, 'природную': 1542, '60': 1543, 'принципами': 1544, 'водными': 1545, '61': 1546, 'природных': 1547, '62': 1548, 'циркулярной': 1549, 'экономики': 1550, '63': 1551, 'энергетической': 1552, '64': 1553, 'градостроительных': 1554, '65': 1555, 'ответственности': 1556, '66': 1557, 'городов': 1558, 'потребностей': 1559, 'местного': 1560, 'населения': 1561, '67': 1562, '68': 1563, 'технологических': 1564, '69': 1565, 'здоровьем': 1566, '70': 1567, 'цифровых': 1568, '71': 1569, '72': 1570, '73': 1571, '74': 1572, 'включать': 1573, '75': 1574, 'умных': 1575, '76': 1576, '77': 1577, 'рабочем': 1578, 'месте': 1579, '78': 1580, 'поддержания': 1581, 'биоразнообразия': 1582, '79': 1583, '80': 1584, '81': 1585, 'стратегий': 1586, 'обращения': 1587, '82': 1588, '83': 1589, 'социальных': 1590, '84': 1591, '85': 1592, 'представляют': 1593, 'адаптивные': 1594, 'адаптивных': 1595, 'адаптивными': 1596, 'интегрируют': 1597, 'ставит': 1598, 'адаптивный': 1599, 'подход': 1600, 'конкретные': 1601, 'проектные': 1602, 'отличается': 1603, 'методологиях': 1604, 'учитывают': 1605, 'изменчивость': 1606, 'взаимодействуют': 1607, 'подходах': 1608, 'поддержки': 1609, 'адаптивности': 1610, 'начальных': 1611, 'человеческими': 1612, 'рассматривать': 1613, 'призму': 1614, 'глобальные': 1615, 'решают': 1616, 'включение': 1617, 'ранних': 1618, 'регулируют': 1619, 'гибкость': 1620, 'проектных': 1621, 'поддержание': 1622, 'эффективных': 1623, 'экономические': 1624, 'корпорациях': 1625, 'культурными': 1626, 'различиями': 1627, 'важна': 1628, 'индивидуальные': 1629, 'информационных': 1630, 'рынка': 1631, 'адаптивного': 1632, 'корпоративные': 1633, 'бюджету': 1634, 'программного': 1635, 'рыночной': 1636, 'конъюнктуре': 1637, 'подходов': 1638, 'потребностям': 1639, 'слежения': 1640, 'прогрессом': 1641, 'изменяющейся': 1642, 'бизнессредой': 1643, 'инновационными': 1644, 'метод': 1645, 'помидора': 1646, 'методом': 1647, 'сеанс': 1648, 'методу': 1649, 'таймер': 1650, 'методе': 1651, 'повседневной': 1652, 'продуктивности': 1653, 'интервала': 1654, 'минут': 1655, 'является': 1656, 'ключевым': 1657, 'элементом': 1658, 'делать': 1659, 'перерывах': 1660, 'помидорами': 1661, 'эффективному': 1662, 'планированию': 1663, 'идея': 1664, 'неотложных': 1665, 'важных': 1666, 'эффективно': 1667, 'решать': 1668, 'учет': 1669, 'помидоров': 1670, 'борьбе': 1671, 'процрастинацией': 1672, 'приоритетности': 1673, 'ограничивать': 1674, 'общую': 1675, 'систему': 1676, 'если': 1677, 'прерывание': 1678, 'сеанса': 1679, 'секрет': 1680, 'помогут': 1681, 'улучшить': 1682, 'концентрацию': 1683, 'сеансов': 1684, 'постоянство': 1685, 'облегчить': 1686, 'пересматривать': 1687, 'переутомления': 1688, 'приносит': 1689, 'ожидаемых': 1690, 'суть': 1691, 'понятия': 1692, 'короткие': 1693, 'перерывы': 1694, 'максимально': 1695, 'перерывов': 1696, 'энергии': 1697, 'документировать': 1698, 'результаты': 1699, 'помощи': 1700, 'следовании': 1701, 'отвлечениями': 1702, 'технику': 1703, 'постановка': 1704, 'чувства': 1705, 'страха': 1706, 'невыполненными': 1707, 'используя': 1708, 'справляться': 1709, 'расписании': 1710, 'следующего': 1711, 'важной': 1712, 'частью': 1713, 'задача': 1714, 'требует': 1715, 'больше': 1716, 'один': 1717, 'помидор': 1718, 'достижения': 1719, 'долгосрочных': 1720, 'биоритмы': 1721, 'составлении': 1722, 'подбора': 1723, 'пар': 1724, 'усталости': 1725, 'монотонности': 1726, 'неожиданными': 1727, 'срочными': 1728, 'следуя': 1729, 'успешного': 1730, 'свою': 1731, 'повседневную': 1732, 'жизнь': 1733, 'отдыхать': 1734, 'расслабляться': 1735, 'давления': 1736, 'выполненных': 1737, 'справиться': 1738, 'сосредоточиться': 1739, 'gtd': 1740, 'методиками': 1741, 'иметь': 1742, 'подхода': 1743, 'традиционного': 1744, 'контексты': 1745, 'бороться': 1746, 'полного': 1747, 'сброса': 1748, 'приоритизировать': 1749, 'пространства': 1750, 'концепцию': 1751, 'списков': 1752, 'фокусировку': 1753, 'еженедельные': 1754, 'обзоры': 1755, 'выделять': 1756, 'интервалы': 1757, 'предпринимаются': 1758, 'обработки': 1759, 'следующих': 1760, 'действий': 1761, 'организацию': 1762, 'внешнего': 1763, 'мозга': 1764, 'механизм': 1765, 'сомнений': 1766, 'принципа': 1767, 'контекстного': 1768, 'переосмысления': 1769, 'проверять': 1770, 'свои': 1771, 'ценности': 1772, 'потоком': 1773, 'цифровом': 1774, 'мире': 1775, 'распределять': 1776, 'избегать': 1777, 'многозадачности': 1778, 'улучшению': 1779, 'перегруженности': 1780, 'забыть': 1781, 'рутину': 1782, 'беспорядка': 1783, 'корректировать': 1784, 'списки': 1785, 'усталостью': 1786, 'стрессом': 1787, 'долгосрочном': 1788, 'личных': 1789, 'блокировка': 1790, 'блокировкой': 1791, 'традиционным': 1792, 'блокировку': 1793, 'жизни': 1794, 'блокировки': 1795, 'придерживаться': 1796, 'установленного': 1797, 'отклонений': 1798, 'расписания': 1799, 'психология': 1800, 'эффективной': 1801, 'тематические': 1802, 'блоки': 1803, 'блоков': 1804, 'подготовки': 1805, 'давать': 1806, 'блокировке': 1807, 'вносить': 1808, 'корректировки': 1809, 'сохранять': 1810, 'утомления': 1811, 'еженедельный': 1812, 'обзор': 1813, 'золотого': 1814, 'часа': 1815, 'конфликтов': 1816, 'блоками': 1817, 'личного': 1818, 'концентрации': 1819, 'фокусировки': 1820, 'срывов': 1821, 'неожиданных': 1822, 'индивидуальным': 1823, 'биоритмам': 1824, 'длительности': 1825, 'достичь': 1826, 'максимальной': 1827, 'справлении': 1828, 'сезонные': 1829, 'стагнации': 1830, 'мотивацию': 1831, 'творческих': 1832, 'периоды': 1833, 'отдыха': 1834, 'релаксации': 1835, 'чувством': 1836, 'вины': 1837, 'баланса': 1838, 'личной': 1839, 'жизнью': 1840, 'самоменеджмента': 1841, 'интенсивной': 1842, 'обучении': 1843, 'новым': 1844, 'навыкам': 1845, 'бессмысленности': 1846, 'конечно': 1847, 'вот': 1848, 'вопросов': 1849, 'выполнить': 1850, 'минуты': 1851, 'подпадают': 1852, 'применение': 1853, 'реализовывать': 1854, 'занимающие': 1855, 'меньше': 1856, 'сразу': 1857, 'соответствующими': 1858, 'принципу': 1859, 'более': 1860, 'заданиями': 1861, 'затрачиваемое': 1862, 'повседневное': 1863, 'основной': 1864, 'прокрастинации': 1865, 'занимает': 1866, 'менее': 1867, 'отдельный': 1868, 'практические': 1869, 'отличать': 1870, 'трудоемких': 1871, 'заданий': 1872, 'включения': 1873, 'накопления': 1874, 'мелких': 1875, 'соответствующих': 1876, 'ошибки': 1877, 'чаще': 1878, 'допускают': 1879, 'лимита': 1880, 'простыми': 1881, 'откладывать': 1882, 'потом': 1883, 'отвлечений': 1884, 'переоценки': 1885, 'уменьшения': 1886, 'стресса': 1887, 'увеличения': 1888, 'иногда': 1889, 'подпадающие': 1890, 'зацикливания': 1891, 'простых': 1892, 'реальное': 1893, 'увлечения': 1894, 'одновременно': 1895, 'применять': 1896, 'потери': 1897, 'объема': 1898, 'отложенных': 1899, 'фокуса': 1900, 'результате': 1901, 'фокусом': 1902, 'ориентироваться': 1903, 'результат': 1904, 'деятельности': 1905, 'работе': 1906, 'достижении': 1907, 'результата': 1908, 'фокус': 1909, 'фокусе': 1910, 'своей': 1911, 'измеряемые': 1912, 'единого': 1913, 'вклада': 1914, 'внутреннюю': 1915, 'энергию': 1916, 'поставленных': 1917, 'переоценивать': 1918, 'достижению': 1919, 'коллективной': 1920, 'множестве': 1921, 'фокусу': 1922, 'сущность': 1923, 'длительных': 1924, 'ясные': 1925, 'принятии': 1926, 'обоснованных': 1927, 'целевых': 1928, 'своих': 1929, 'декомпозиции': 1930, 'неудовлетворенности': 1931, 'достигнув': 1932, 'желаемого': 1933, 'постоянный': 1934, 'неважных': 1935, 'методику': 1936, 'smartцелей': 1937, 'матрицы': 1938, 'беспокойства': 1939, 'неуверенности': 1940, 'долгосрочные': 1941, 'возвращения': 1942, 'целям': 1943, 'разочарования': 1944, 'недостижения': 1945, 'ожидаемого': 1946, 'интегрирования': 1947, 'режимом': 1948, 'беспокоить': 1949, 'блокировать': 1950, 'оптимальной': 1951, 'осознанно': 1952, 'влияние': 1953, 'постоянных': 1954, 'психологическое': 1955, 'состояние': 1956, 'соблазна': 1957, 'активированной': 1958, 'режим': 1959, 'сна': 1960, 'глубокой': 1961, 'сетях': 1962, 'изоляции': 1963, 'уведомлениями': 1964, 'эпохе': 1965, 'исключения': 1966, 'разблокировать': 1967, 'настраивать': 1968, 'циклами': 1969, 'пропущенных': 1970, 'многозадачном': 1971, 'положительно': 1972, 'сказывается': 1973, 'когнитивных': 1974, 'функциях': 1975, 'активацией': 1976, 'дисциплины': 1977, 'отсутствия': 1978, 'окружающим': 1979, 'миром': 1980, 'включенной': 1981, 'обучать': 1982, 'окружающих': 1983, 'уважению': 1984, 'снижении': 1985, 'информационного': 1986, 'шума': 1987, 'снятия': 1988, 'центра': 1989, 'внимания': 1990, 'очистки': 1991, 'взаимодействия': 1992, 'компульсивной': 1993, 'формирования': 1994, 'привычек': 1995, 'рутины': 1996, 'обработать': 1997, 'важные': 1998, 'эмоционального': 1999, 'благополучия': 2000, 'креативной': 2001, 'утраты': 2002, 'удаленной': 2003, 'правило': 2004, '8020': 2005, 'соответствуют': 2006, 'правилу': 2007, 'выделить': 2008, 'значимые': 2009, 'приносящих': 2010, 'универсальным': 2011, 'принципом': 2012, 'клиенты': 2013, 'приносят': 2014, 'основную': 2015, 'часть': 2016, 'опасность': 2017, 'недооценки': 2018, 'значимости': 2019, 'списками': 2020, 'важными': 2021, 'стратегию': 2022, 'конкретному': 2023, 'контексту': 2024, 'ситуации': 2025, 'бизнесе': 2026, 'упущения': 2027, 'деталей': 2028, 'фокусировке': 2029, 'лидерства': 2030, 'учебе': 2031, 'творческой': 2032, 'увлечься': 2033, 'мелочами': 2034, 'несмотря': 2035, 'также': 2036, 'анализу': 2037, 'статистики': 2038, 'саморазвитии': 2039, 'долгосрочной': 2040, 'перспективе': 2041, 'взаимоотношений': 2042, 'излишней': 2043, 'детализации': 2044, 'полезен': 2045, 'маркетинга': 2046, 'придерживаясь': 2047, 'коррективы': 2048, 'деталями': 2049, 'избегания': 2050, 'применению': 2051, 'отвлекающих': 2052, 'избеганием': 2053, 'отвлекающие': 2054, 'снизить': 2055, 'классифицировать': 2056, 'окошек': 2057, 'окружение': 2058, 'без': 2059, 'предпочтения': 2060, 'подавления': 2061, 'физической': 2062, 'удаленности': 2063, 'отвлекающим': 2064, 'режимы': 2065, 'помещения': 2066, 'буфер': 2067, 'переключения': 2068, 'снятием': 2069, 'появления': 2070, 'отрыва': 2071, 'подрыва': 2072, 'привычки': 2073, 'чрезмерной': 2074, 'активной': 2075, 'дифференцировать': 2076, 'префиксной': 2077, 'полезно': 2078, 'блокируемых': 2079, 'пропуска': 2080, 'постепенного': 2081, 'eat': 2082, 'that': 2083, 'frog': 2084, 'сообщение': 2085, 'предлагает': 2086, 'принести': 2087, 'приоритетно': 2088, 'какую': 2089, 'первой': 2090, 'эта': 2091, 'эффективным': 2092, 'инструментом': 2093, 'поддаются': 2094, 'решению': 2095, 'делают': 2096, 'привлекательной': 2097, 'тех': 2098, 'кто': 2099, 'стремится': 2100, 'повышению': 2101, 'концепции': 2102, 'понимание': 2103, 'собственных': 2104, 'сферы': 2105, 'улучшены': 2106, 'попытке': 2107, 'этой': 2108, 'ясных': 2109, 'делает': 2110, 'эту': 2111, 'съедай': 2112, 'лягушку': 2113, 'это': 2114, 'связано': 2115, 'поведении': 2116, 'мышлении': 2117, 'человека': 2118, 'требуются': 2119, 'научиться': 2120, 'фокусироваться': 2121, 'прокрастинацией': 2122, 'утреннего': 2123, 'сложной': 2124, 'этот': 2125, 'каковы': 2126, 'списка': 2127, 'обнаруживается': 2128, 'лягушки': 2129, 'планировалось': 2130, 'понимания': 2131, 'ценностей': 2132, 'отвлекающими': 2133, 'факторами': 2134, 'повысить': 2135, 'различие': 2136, 'осознание': 2137, 'мотиваций': 2138, 'самодисциплины': 2139, 'развивать': 2140, 'этого': 2141, 'ведении': 2142, 'периодического': 2143, 'планов': 2144, 'баланс': 2145, 'борьбы': 2146, 'отложенной': 2147, 'задачей': 2148, 'подцелей': 2149, 'успеха': 2150, 'чувство': 2151, 'появляются': 2152, 'неожиданные': 2153, 'трудности': 2154, 'энергией': 2155, 'рекомендует': 2156, 'эффективное': 2157, 'собственную': 2158, 'сопротивление': 2159, 'начать': 2160, 'применимы': 2161, 'инкрементальности': 2162, 'его': 2163, 'agileподхода': 2164, 'своим': 2165, 'итераций': 2166, 'канбандоску': 2167, 'постоянного': 2168, 'ретроспективы': 2169, 'он': 2170, 'улучшении': 2171, 'многозадачных': 2172, 'общей': 2173, 'видимости': 2174, 'скрампокер': 2175, 'moscow': 2176, 'применим': 2177, 'личным': 2178, 'agileподход': 2179, 'акцентирует': 2180, 'личную': 2181, 'неожиданностями': 2182, 'планах': 2183, 'четко': 2184, 'собраний': 2185, 'стоянке': 2186, 'полномочий': 2187, 'неопределенными': 2188, 'ящиков': 2189, 'соответствует': 2190, 'agileпринципам': 2191, 'коротких': 2192, 'циклов': 2193, 'улучшает': 2194, 'предоставления': 2195, 'выбора': 2196, 'парного': 2197, 'программирования': 2198, 'высокопроизводительных': 2199, 'стратегических': 2200, 'скорость': 2201, 'демократии': 2202, 'решении': 2203, 'эмоциональным': 2204, 'состоянием': 2205, 'аспектах': 2206, 'согласуется': 2207, 'понятием': 2208, 'движения': 2209, 'самооценки': 2210, 'техника': 2211, 'бери': 2212, 'повседневный': 2213, 'техникой': 2214, 'повышении': 2215, 'повседневные': 2216, 'профессиональных': 2217, 'состояния': 2218, 'напряжением': 2219, 'самомониторинга': 2220, 'личное': 2221, 'самоопределение': 2222, 'двойного': 2223, 'своими': 2224, 'отдыхом': 2225, 'формирование': 2226, 'навыков': 2227, 'отсроченными': 2228, 'рост': 2229, 'неопределенностью': 2230, 'энергетическими': 2231, 'вдохновения': 2232, 'креативности': 2233, 'отношениями': 2234, 'индивидуальный': 2235, 'матрица': 2236, 'технике': 2237, 'приоритезации': 2238, 'матрицей': 2239, 'срочность': 2240, 'выгоды': 2241, 'повседневном': 2242, 'матрицу': 2243, 'балансировки': 2244, 'применены': 2245, 'контекстах': 2246, 'квадранте': 2247, 'привлекать': 2248, 'команду': 2249, 'созданию': 2250, 'обновлению': 2251, 'выявлении': 2252, 'устранении': 2253, 'пробелов': 2254, 'плане': 2255, 'квадрантами': 2256, 'повышение': 2257, 'ежедневный': 2258, 'сбалансированном': 2259, 'распределении': 2260, 'сезонных': 2261, 'циклических': 2262, 'временными': 2263, 'рамками': 2264, 'постановки': 2265, 'профессиональными': 2266, 'уровнями': 2267, 'выявлять': 2268, 'оперативными': 2269, 'командными': 2270, 'многозадачностью': 2271, 'четких': 2272, 'достижимых': 2273, 'портировезации': 2274, 'abcd': 2275, 'техниками': 2276, 'сравнении': 2277, 'категории': 2278, 'различать': 2279, 'первую': 2280, 'очередь': 2281, 'abcзадачи': 2282, 'отличаются': 2283, 'индикаторы': 2284, 'свидетельствовать': 2285, 'пересмотреть': 2286, 'способствует': 2287, 'лучшему': 2288, 'd': 2289, 'дать': 2290, 'b': 2291, 'становятся': 2292, 'слишком': 2293, 'многочисленными': 2294, 'когда': 2295, 'наступает': 2296, 'момент': 2297, 'пересмотра': 2298, 'буквенных': 2299, 'категорий': 2300, 'группах': 2301, 'полезной': 2302, 'профессиональной': 2303, 'балансирования': 2304, 'простым': 2305, 'списком': 2306, 'ожидать': 2307, 'систематического': 2308, 'карьерой': 2309, 'субъективного': 2310, 'восприятия': 2311, 'c': 2312, 'остаются': 2313, 'рекомендованы': 2314, 'способность': 2315, 'непредвиденными': 2316, 'обстоятельствами': 2317, 'измерить': 2318, 'обзора': 2319, 'эмоциями': 2320, 'решение': 2321, 'эйзенхауэра': 2322, 'определяет': 2323, 'относится': 2324, 'конкретная': 2325, 'избегании': 2326, 'сначала': 2327, 'срочностью': 2328, 'влияния': 2329, 'московского': 2330, 'выполнять': 2331, 'московским': 2332, 'зонами': 2333, 'московское': 2334, 'ограниченных': 2335, 'фреймворк': 2336, 'ice': 2337, 'фреймворком': 2338, 'фреймворка': 2339, 'методика': 2340, 'выделяются': 2341, 'фреймворке': 2342, 'понятие': 2343, 'iceоценка': 2344, 'оно': 2345, 'указать': 2346, 'фреймворку': 2347, 'i': 2348, 'e': 2349, 'методики': 2350, 'числовой': 2351, 'методике': 2352, 'обычным': 2353, 'поддерживаются': 2354, 'соотносится': 2355, 'субъективности': 2356, 'условиями': 2357, 'непредвиденные': 2358, 'парето': 2359, 'построения': 2360, 'необходимы': 2361, 'организациям': 2362, 'средством': 2363, 'интерпретировать': 2364, 'связанный': 2365, 'внесет': 2366, 'построении': 2367, 'адаптирована': 2368, 'условиям': 2369, 'использованию': 2370, 'полезна': 2371, 'верификации': 2372, 'сценарии': 2373, 'технологии': 2374, 'искажений': 2375, 'сборе': 2376, 'выявить': 2377, 'экспертов': 2378, 'альтернативы': 2379, 'влиять': 2380, 'сочетается': 2381, 'изменится': 2382, 'произойдут': 2383, 'научных': 2384, 'исследований': 2385, 'конкуренции': 2386, 'издержки': 2387, 'учтены': 2388, 'изучения': 2389, 'существующие': 2390, 'фокусные': 2391, 'улучшений': 2392, 'инновационные': 2393, 'комбинации': 2394, 'rice': 2395, 'riceоценка': 2396, 'она': 2397, 'необходимости': 2398, 'r': 2399, 'услов': 2400, 'надежной': 2401, 'приоритетные': 2402, 'вероятность': 2403, 'матрице': 2404, 'стратегического': 2405, 'но': 2406, 'культуры': 2407, 'инновационных': 2408, 'исполнительного': 2409, 'технологического': 2410, 'произойти': 2411, 'голосования': 2412, 'монетой': 2413, 'техник': 2414, 'успешно': 2415, 'полезны': 2416, 'решены': 2417, 'голосование': 2418, 'конкретных': 2419, 'подсказать': 2420, 'последствия': 2421, 'целесообразно': 2422, 'недостатке': 2423, 'случайности': 2424, 'предостережения': 2425, 'недостатки': 2426, 'сомнения': 2427, 'альтернативными': 2428, 'использовано': 2429, 'ситуациях': 2430, 'ошибок': 2431, 'недочетов': 2432, 'вариантами': 2433, 'уверенность': 2434, 'максимизации': 2435, 'рассмотреть': 2436, 'провести': 2437, 'встречу': 2438, 'документ': 2439, 'функциональными': 2440, 'дизайнтребованиями': 2441, 'подготовить': 2442, 'техническое': 2443, 'задание': 2444, 'составить': 2445, 'распределить': 2446, 'макет': 2447, 'главной': 2448, 'сайта': 2449, 'разработать': 2450, 'макеты': 2451, 'товаров': 2452, 'дизайн': 2453, 'логотипа': 2454, 'брендинга': 2455, 'иконки': 2456, 'изображения': 2457, 'разработка': 2458, 'фронтенда': 2459, 'иван': 2460, 'елена': 2461, 'навигацию': 2462, 'html': 2463, 'css': 2464, 'адаптивную': 2465, 'версию': 2466, 'версии': 2467, 'возможностью': 2468, 'добавления': 2469, 'корзину': 2470, 'реализовать': 2471, 'покупателя': 2472, 'оформление': 2473, 'заказа': 2474, 'личные': 2475, 'кабинеты': 2476, 'фильтры': 2477, 'сортировку': 2478, 'загрузки': 2479, 'бекенда': 2480, 'алексей': 2481, 'выбрать': 2482, 'технологический': 2483, 'стек': 2484, 'серверную': 2485, 'аутентификации': 2486, 'авторизации': 2487, 'api': 2488, 'каталогом': 2489, 'платежными': 2490, 'доставочными': 2491, 'обеспечить': 2492, 'безопасность': 2493, 'защиту': 2494, 'интеграция': 2495, 'фронтенд': 2496, 'бекенд': 2497, 'функциональное': 2498, 'главных': 2499, 'проверить': 2500, 'корзины': 2501, 'оформления': 2502, 'платежных': 2503, 'отладить': 2504, 'устранить': 2505, 'обнаруженные': 2506, 'доработка': 2507, 'метатеги': 2508, 'seo': 2509, 'доработки': 2510, 'браузерами': 2511, 'запуск': 2512, 'развернуть': 2513, 'сайт': 2514, 'хостинге': 2515, 'сервере': 2516, 'контент': 2517, 'товары': 2518, 'запуска': 2519, 'сайтом': 2520, 'заказчику': 2521, 'контента': 2522, 'техническую': 2523, 'поддержку': 2524, 'первого': 2525, 'месяца': 2526, 'конкурентов': 2527, 'swotанализ': 2528, 'техническим': 2529, 'спецификацию': 2530, 'необходимые': 2531, 'внешними': 2532, 'сервисами': 2533, 'макетирование': 2534, 'ольги': 2535, 'дмитрия': 2536, 'нас': 2537, 'контакты': 2538, 'политика': 2539, 'конфиденциальности': 2540, 'условия': 2541, 'благодарности': 2542, 'заказ': 2543, 'спасибо': 2544, 'регистрацию': 2545, 'доработать': 2546, 'иконок': 2547, 'сетей': 2548, 'мессенджеров': 2549, 'emailуведомлений': 2550, 'подтверждения': 2551, 'регистрации': 2552, 'изображениями': 2553, 'галерея': 2554, 'увеличение': 2555, 'изображений': 2556, '404': 2557, 'not': 2558, 'found': 2559, 'сервера': 2560, 'возможность': 2561, 'каталоге': 2562, 'отзывов': 2563, 'комментариев': 2564, 'товарам': 2565, 'поделиться': 2566, 'товаром': 2567, 'подарочные': 2568, 'сертификаты': 2569, 'приобретения': 2570, 'сети': 2571, 'статическим': 2572, 'блог': 2573, 'новости': 2574, 'формой': 2575, 'рассылки': 2576, 'новостей': 2577, 'подписчикам': 2578, 'пароля': 2579, 'возвратов': 2580, 'обменов': 2581, 'сравнение': 2582, 'цен': 2583, 'поведения': 2584, 'большой': 2585, 'нагрузке': 2586, 'запросы': 2587, 'сетями': 2588, 'кроссбраузерной': 2589, 'старых': 2590, 'браузеров': 2591, 'кэширования': 2592, 'сортировка': 2593, 'автоматической': 2594, 'генерации': 2595, 'карты': 2596, 'abтестирование': 2597, 'конверсии': 2598, 'администраторов': 2599, 'заказах': 2600, 'финальное': 2601, 'запуском': 2602, 'запустить': 2603, 'выбранном': 2604, 'разместить': 2605, 'robotstxt': 2606, 'поисковых': 2607, 'роботов': 2608, 'регулярных': 2609, 'обновлений': 2610, 'запросу': 2611, 'потребность': 2612, 'будущем': 2613, 'инциденты': 2614, 'сбоев': 2615, '97': 2616, 'faq': 2617, 'часто': 2618, 'задаваемые': 2619, 'корзина': 2620, 'подробной': 2621, 'заказе': 2622, 'emailрассылок': 2623, 'возврата': 2624, 'планшетах': 2625, '103': 2626, 'акций': 2627, 'скидок': 2628, 'подписка': 2629, 'акции': 2630, 'отзывы': 2631, 'магазине': 2632, 'добавление': 2633, 'избранное': 2634, 'доставки': 2635, '109': 2636, 'акциями': 2637, 'скидками': 2638, 'отправки': 2639, 'пользователях': 2640, 'заявок': 2641, 'возврат': 2642, 'администрирования': 2643, 'магазина': 2644, 'логов': 2645, '115': 2646, 'интеграционное': 2647, 'платежи': 2648, 'доставка': 2649, 'тестировать': 2650, 'операционных': 2651, 'ddosатакам': 2652, 'предотвращения': 2653, '120': 2654, 'механизмы': 2655, 'рекомендаций': 2656, 'отслеживание': 2657, 'статуса': 2658, 'оставлять': 2659, 'товарах': 2660, 'у': 2661, 'статусе': 2662, '126': 2663, 'регулярного': 2664, 'администрированию': 2665, 'размещению': 2666, 'официальное': 2667, 'продолжим': 2668, 'декомпозицию': 2669, '132': 2670, 'пользовательского': 2671, 'опыта': 2672, 'интерфейса': 2673, 'необходимых': 2674, 'технических': 2675, 'платежей': 2676, 'рекомендациям': 2677, 'резервных': 2678, 'серверах': 2679, '137': 2680, 'карта': 2681, 'устройствах': 2682, 'обратная': 2683, 'связь': 2684, 'юзабилити': 2685, 'специальные': 2686, 'предложения': 2687, 'распродажи': 2688, '143': 2689, 'подписками': 2690, 'истории': 2691, 'отправить': 2692, 'товар': 2693, 'другу': 2694, 'скидки': 2695, 'рейтинга': 2696, 'обзоров': 2697, '149': 2698, 'блога': 2699, 'параметрами': 2700, 'сайте': 2701, 'цены': 2702, 'остатки': 2703, 'рекламой': 2704, 'маркетинговыми': 2705, 'кампаниями': 2706, 'персонализированных': 2707, 'предложений': 2708, 'совместимость': 2709, 'responsive': 2710, 'design': 2711, 'конверсий': 2712, 'одновременной': 2713, 'множества': 2714, 'устройствами': 2715, 'отзывом': 2716, 'товаре': 2717, 'пользователю': 2718, 'скидках': 2719, 'избранные': 2720, 'учетными': 2721, 'продажах': 2722, 'посещаемости': 2723, 'администраторам': 2724, 'обращениях': 2725, 'сбоями': 2726, 'негативные': 2727, 'аудит': 2728, 'петров': 2729, 'подготовьте': 2730, 'отчет': 2731, 'продажам': 2732, 'декабря': 2733, 'мария': 2734, 'сидорова': 2735, 'проведите': 2736, 'нового': 2737, 'января': 2738, 'орлов': 2739, 'разработайте': 2740, 'медиаплан': 2741, 'февраля': 2742, 'ольга': 2743, 'жукова': 2744, 'продвижению': 2745, 'новой': 2746, 'услуги': 2747, 'марта': 2748, 'петр': 2749, 'лебедев': 2750, 'сегментацию': 2751, 'анна': 2752, 'кузнецова': 2753, 'анкету': 2754, 'исследования': 2755, 'апреля': 2756, 'сергей': 2757, 'попов': 2758, 'проанализируйте': 2759, 'рекламной': 2760, 'кампании': 2761, 'юлия': 2762, 'соколова': 2763, 'продвижения': 2764, 'бренда': 2765, 'мая': 2766, 'виктор': 2767, 'романов': 2768, 'савельева': 2769, 'целевой': 2770, 'аудитории': 2771, 'александр': 2772, 'логинов': 2773, 'вирусной': 2774, 'июня': 2775, 'кристина': 2776, 'беляева': 2777, 'игорь': 2778, 'волков': 2779, 'наталья': 2780, 'куликова': 2781, 'ассортимент': 2782, 'продукции': 2783, 'павел': 2784, 'никитин': 2785, 'опроса': 2786, 'июля': 2787, 'людмила': 2788, 'журавлева': 2789, 'спланируйте': 2790, 'рекламную': 2791, 'кампанию': 2792, 'интернете': 2793, 'анатолий': 2794, 'петухов': 2795, 'рыночные': 2796, 'стартапа': 2797, 'галина': 2798, 'сидоренко': 2799, 'маркетинговую': 2800, 'василий': 2801, 'отраслевой': 2802, 'выставке': 2803, 'августа': 2804, 'екатерина': 2805, 'лазарева': 2806, 'лояльности': 2807, 'светлана': 2808, 'аникеева': 2809, 'потребительские': 2810, 'жуков': 2811, 'олег': 2812, 'смирнов': 2813, 'брендбука': 2814, 'сентября': 2815, 'ирина': 2816, 'васильева': 2817, 'фокусгруппы': 2818, 'потребителями': 2819, 'инвестиций': 2820, 'полугодие': 2821, 'валентина': 2822, 'петрова': 2823, 'digitalпродвижения': 2824, 'антон': 2825, 'сидоров': 2826, 'видеороликов': 2827, 'youtube': 2828, 'октября': 2829, 'николай': 2830, 'email': 2831, 'рассылку': 2832, 'потенциальным': 2833, 'марина': 2834, 'пул': 2835, 'инфлюенсеров': 2836, 'сотрудничества': 2837, 'проделанной': 2838, 'лендинг': 2839, 'ноября': 2840, 'таргетированной': 2841, 'рекламы': 2842, 'соцсетях': 2843, 'репутацию': 2844, 'узнаваемости': 2845, 'funnel': 2846, 'продаж': 2847, 'интернетмагазина': 2848, 'контентплана': 2849, 'вперед': 2850, 'аудиторию': 2851, 'сообществ': 2852, 'pr': 2853, 'вирусного': 2854, 'видео': 2855, 'контекстной': 2856, 'январь': 2857, 'проанализировать': 2858, 'проведенной': 2859, 'прошлом': 2860, 'месяце': 2861, 'понедельнику': 2862, 'ответственный': 2863, '': 2864, 'иванова': 2865, 'несколько': 2866, 'вариантов': 2867, 'сценариев': 2868, 'видеоролика': 2869, 'конца': 2870, 'поручаю': 2871, 'екатерине': 2872, 'сидоровой': 2873, 'мне': 2874, 'идеи': 2875, 'имиджа': 2876, 'нашей': 2877, 'фирмы': 2878, 'следующей': 2879, 'планерке': 2880, 'попросите': 2881, 'заняться': 2882, 'этим': 2883, 'алексея': 2884, 'параметрам': 2885, 'дней': 2886, 'отв': 2887, 'проведению': 2888, 'интернеткампании': 2889, 'нашего': 2890, 'ко': 2891, 'вторнику': 2892, 'нине': 2893, 'кузьминой': 2894, 'нам': 2895, 'понять': 2896, 'направления': 2897, 'попрошу': 2898, 'петра': 2899, 'исполнитель': 2900, 'смирнова': 2901, 'мы': 2902, 'планируем': 2903, 'emailрассылку': 2904, 'акцией': 2905, 'привлечения': 2906, 'варианты': 2907, 'текстов': 2908, 'василию': 2909, 'логинову': 2910, 'ассортимента': 2911, 'ответственная': 2912, 'спланировать': 2913, 'летний': 2914, 'юлии': 2915, 'волковой': 2916, 'ивану': 2917, 'петрову': 2918, 'прошлый': 2919, 'марию': 2920, 'сидорову': 2921, 'предложить': 2922, 'размещения': 2923, 'алексею': 2924, 'орлову': 2925, 'нашу': 2926, 'аккаунтов': 2927, 'пятнице': 2928, 'должна': 2929, 'петру': 2930, 'лебедеву': 2931, 'потребителей': 2932, 'представьте': 2933, 'опросника': 2934, 'завтра': 2935, 'вам': 2936, 'конференции': 2937, 'соколовой': 2938, 'конкурентный': 2939, 'елене': 2940, 'савельевой': 2941, 'воронку': 2942, 'попросить': 2943, 'ивана': 2944, 'баннера': 2945, 'напомнить': 2946, 'маше': 2947, 'утра': 2948, 'переделать': 2949, 'логотип': 2950, 'варианта': 2951, 'упаковки': 2952, 'требуется': 2953, 'верстка': 2954, 'лендинга': 2955, 'макета': 2956, 'эскизы': 2957, 'интерьера': 2958, 'пожалуйста': 2959, 'разработай': 2960, 'дню': 2961, 'рождения': 2962, 'максим': 2963, 'новогодних': 2964, 'открыток': 2965, 'кате': 2966, 'приступить': 2967, 'фирменного': 2968, 'стиля': 2969, 'ресторана': 2970, 'свету': 2971, 'презентацию': 2972, 'эскиз': 2973, 'полиграфии': 2974, 'буклета': 2975, 'нади': 2976, '3d': 2977, 'модели': 2978, 'числу': 2979, 'дима': 2980, 'клиентом': 2981, 'концу': 2982, 'олеся': 2983, 'виталия': 2984, 'верстать': 2985, 'каталог': 2986, 'юрий': 2987, 'ребрендинг': 2988, 'подписания': 2989, 'договора': 2990, 'лене': 2991, 'этикетки': 2992, 'татьяна': 2993, 'визуализация': 2994, 'витрины': 2995, 'веры': 2996, 'михаил': 2997, 'pitches': 2998, 'сверстать': 2999, 'буклет': 3000, 'услугах': 3001, 'ирине': 3002, 'никиту': 3003, 'фирменный': 3004, 'стиль': 3005, 'сергея': 3006, 'презентация': 3007, 'встрече': 3008, 'пятницу': 3009, 'наташа': 3010, 'mockup': 3011, 'василия': 3012, 'проработать': 3013, 'бриф': 3014, 'билборда': 3015, 'неделей': 3016, 'марине': 3017, 'баннеры': 3018, 'этикеток': 3019, 'катя': 3020, 'moodboard': 3021, 'фотосессии': 3022, 'артёма': 3023, 'айдентики': 3024, 'одежды': 3025, 'денис': 3026, 'прототип': 3027, 'тз': 3028, 'лизе': 3029, 'обновить': 3030, 'последними': 3031, 'кейсами': 3032, 'машу': 3033, '1500': 3034, 'олега': 3035, 'новом': 3036, 'продукте': 3037, 'антону': 3038, 'обеда': 3039, 'мультимедийную': 3040, 'питчу': 3041, 'понедельник': 3042, '0930': 3043, 'никите': 3044, '1200': 3045, 'катю': 3046, 'сделать': 3047, 'нарезку': 3048, 'фотографий': 3049, 'инстаграм': 3050, 'салона': 3051, '1800': 3052, 'об': 3053, 'журнала': 3054, 'одностраничный': 3055, 'получения': 3056, 'аня': 3057, 'четверг': 3058, 'саши': 3059, 'защита': 3060, 'послезавтра': 3061, '1300': 3062, 'сувенирной': 3063, '1100': 3064, 'диму': 3065, '1000': 3066, 'виктору': 3067, 'ребрендингу': 3068, '1530': 3069, 'мише': 3070, 'домашней': 3071, '1400': 3072, 'тани': 3073, 'дизайнконцепцию': 3074, 'учётом': 3075, 'правок': 3076, 'завтрашней': 3077, '0900': 3078, 'виталий': 3079, 'вечера': 3080, 'понедельника': 3081, 'денису': 3082, 'техническом': 3083, 'задании': 3084, 'разработку': 3085, 'чатабота': 3086, 'артём': 3087, 'дизайнпроект': 3088, '1700': 3089, 'посты': 3090, 'визуалы': 3091, 'написать': 3092, 'сценарий': 3093, 'новогоднего': 3094, 'фотосессию': 3095, 'коллекции': 3096, 'запуску': 3097, 'прямой': 3098, 'эфир': 3099, 'блогером': 3100, 'тексты': 3101, 'проведения': 3102, 'конкурса': 3103, 'instagram': 3104, 'smmаудит': 3105, 'аналитическую': 3106, 'записку': 3107, 'блогерами': 3108, 'подобрать': 3109, 'лидеров': 3110, 'мнений': 3111, 'предпринимателя': 3112, 'tiktok': 3113, 'аккаунт': 3114, 'регулярный': 3115, 'постинг': 3116, 'протестировать': 3117, 'новый': 3118, 'формат': 3119, 'постов': 3120, 'сторис': 3121, 'паблика': 3122, 'контентплан': 3123, 'продуктов': 3124, 'собрать': 3125, 'обратную': 3126, 'качестве': 3127, 'подписки': 3128, 'расширения': 3129, 'охвата': 3130, 'вебинар': 3131, 'подписчиков': 3132, 'новинки': 3133, 'летней': 3134, 'постинга': 3135, 'апрелемае': 3136, 'еще': 3137, 'привлечением': 3138, 'блогеров': 3139, 'продумать': 3140, 'еженедельного': 3141, 'рубрик': 3142, 'сервисе': 3143, 'фотосет': 3144, 'осенней': 3145, 'опрос': 3146, 'упаковке': 3147, 'emailрассылки': 3148, 'партнерам': 3149, 'маркетолога': 3150, 'прямых': 3151, 'эфиров': 3152, 'экспертами': 3153, 'флешмоба': 3154, 'чемпионату': 3155, 'мира': 3156, 'футболу': 3157, 'полгода': 3158, 'конкурс': 3159, 'репостов': 3160, 'weeklyпризами': 3161, 'вконтакте': 3162, 'старта': 3163, 'промо': 3164, 'coolгайд': 3165, 'smm': 3166, 'новичков': 3167, 'агентства': 3168, 'тематических': 3169, 'пабликов': 3170, 'вк': 3171, 'конкурентных': 3172, 'тикток': 3173, 'своего': 3174, 'пост': 3175, 'поздравлением': 3176, 'программиста': 3177, '256': 3178, 'фитнесстудии': 3179, 'недель': 3180, 'прямые': 3181, 'трансляции': 3182, 'мастерклассов': 3183, 'готовке': 3184, 'сториз': 3185, 'раза': 3186, 'космонавтики': 3187, 'призовым': 3188, 'фондом': 3189, '200': 3190, '000': 3191, 'просмотров': 3192, 'обложек': 3193, 'самыми': 3194, 'смешными': 3195, 'кошками': 3196, 'придумать': 3197, 'идей': 3198, 'ежедневных': 3199, 'вперёд': 3200, 'съемки': 3201, 'рецептов': 3202, 'коктейлей': 3203, 'монтаж': 3204, 'роликов': 3205, 'среди': 3206, 'конверсию': 3207}\n",
            "3208\n"
          ]
        }
      ]
    },
    {
      "cell_type": "code",
      "source": [
        "def clean_sentence(sent):\n",
        "  sent = sent.split()\n",
        "  clean_sent = list()\n",
        "  for word in sent:\n",
        "    word = word.lower()\n",
        "    for letter in word:\n",
        "      if not letter.isalpha() and not letter.isnumeric():\n",
        "        word=word.replace(letter, \"\")\n",
        "    clean_sent.append(word)\n",
        "  return clean_sent\n",
        "\n",
        "def prepare_sequence(seq, to_ix):\n",
        "    idxs = [to_ix[w] for w in seq]\n",
        "    return torch.tensor(idxs, dtype=torch.long)"
      ],
      "metadata": {
        "id": "nzgPgSEUnVF7"
      },
      "execution_count": 13,
      "outputs": []
    },
    {
      "cell_type": "code",
      "source": [
        "class MyDataset(Dataset):\n",
        "    def __init__(self, df, max_words, vocab, ds_type):\n",
        "        super(MyDataset, self).__init__()\n",
        "        self.df = df\n",
        "        self.ds_type = ds_type\n",
        "        self.max_words = max_words\n",
        "        self.vocab = vocab\n",
        "        self.sentences=[]\n",
        "        self.labels=[]\n",
        "        videos = []\n",
        "        for i,row in df[df[\"type\"]==ds_type].iterrows():\n",
        "            sentence = clean_sentence(row['Message'])\n",
        "            task_id = row['event_type']\n",
        "            self.sentences.append(sentence)\n",
        "            self.labels.append(task_id)\n",
        "\n",
        "    def __getitem__(self, index):\n",
        "        sent = prepare_sequence(self.sentences[index], self.vocab)\n",
        "        label=self.labels[index]\n",
        "        return sent, tasks[self.labels[index]]\n",
        "\n",
        "\n",
        "    def __len__(self):\n",
        "        return len(self.sentences)"
      ],
      "metadata": {
        "id": "HRoCNktA9zU7"
      },
      "execution_count": 15,
      "outputs": []
    },
    {
      "cell_type": "code",
      "source": [
        "train_dataloader = DataLoader(MyDataset(df, max_words=25, vocab=ds_vocab, ds_type='train'), batch_size=1, shuffle=True)\n",
        "test_dataloader = DataLoader(MyDataset(df, max_words=25, vocab=ds_vocab, ds_type='test'), batch_size=1, shuffle=True)"
      ],
      "metadata": {
        "id": "eaTB0vBl93u4"
      },
      "execution_count": 16,
      "outputs": []
    },
    {
      "cell_type": "code",
      "source": [
        "for X, Y in train_dataloader:\n",
        "    print(X.shape, Y.shape)\n",
        "    break"
      ],
      "metadata": {
        "colab": {
          "base_uri": "https://localhost:8080/"
        },
        "id": "lcCfkAjLEE3p",
        "outputId": "8be588b9-8112-44b5-9bd6-911f881f3fc7"
      },
      "execution_count": 17,
      "outputs": [
        {
          "output_type": "stream",
          "name": "stdout",
          "text": [
            "torch.Size([1, 12]) torch.Size([1])\n"
          ]
        }
      ]
    },
    {
      "cell_type": "code",
      "source": [
        "embed_len = 50\n",
        "hidden_dim = 75\n",
        "n_layers=1\n",
        "\n",
        "# Create the model:\n",
        "class LSTMClassifier(nn.Module):\n",
        "    def __init__(self):\n",
        "        super(LSTMClassifier, self).__init__()\n",
        "        self.embedding_layer = nn.Embedding(num_embeddings=len(ds_vocab), embedding_dim=embed_len)\n",
        "        self.lstm = nn.LSTM(input_size=embed_len, hidden_size=hidden_dim, num_layers=n_layers, batch_first=True)\n",
        "        self.linear = nn.Linear(hidden_dim, len(tasks))\n",
        "\n",
        "    def forward(self, X_batch):\n",
        "        embeddings = self.embedding_layer(X_batch)\n",
        "        hidden, carry = torch.randn(n_layers, len(X_batch), hidden_dim), torch.randn(n_layers, len(X_batch), hidden_dim)\n",
        "        output, (hidden, carry) = self.lstm(embeddings, (hidden, carry))\n",
        "        return self.linear(output[:,-1])"
      ],
      "metadata": {
        "id": "Fy7HUSBYWE_h"
      },
      "execution_count": 18,
      "outputs": []
    },
    {
      "cell_type": "code",
      "source": [
        "lstm_classifier = LSTMClassifier()\n",
        "lstm_classifier"
      ],
      "metadata": {
        "colab": {
          "base_uri": "https://localhost:8080/"
        },
        "id": "4OYFUBEI32ql",
        "outputId": "3f35cd45-d691-449f-8aed-1af2221afd80"
      },
      "execution_count": 19,
      "outputs": [
        {
          "output_type": "execute_result",
          "data": {
            "text/plain": [
              "LSTMClassifier(\n",
              "  (embedding_layer): Embedding(3208, 50)\n",
              "  (lstm): LSTM(50, 75, batch_first=True)\n",
              "  (linear): Linear(in_features=75, out_features=2, bias=True)\n",
              ")"
            ]
          },
          "metadata": {},
          "execution_count": 19
        }
      ]
    },
    {
      "cell_type": "code",
      "source": [
        "for layer in lstm_classifier.children():\n",
        "    print(\"Layer : {}\".format(layer))\n",
        "    print(\"Parameters : \")\n",
        "    for param in layer.parameters():\n",
        "        print(param.shape)\n",
        "    print()"
      ],
      "metadata": {
        "colab": {
          "base_uri": "https://localhost:8080/"
        },
        "id": "fq7ysA1QulNk",
        "outputId": "14640331-f73c-4cc3-cfb7-84e526bc1e8f"
      },
      "execution_count": 20,
      "outputs": [
        {
          "output_type": "stream",
          "name": "stdout",
          "text": [
            "Layer : Embedding(3208, 50)\n",
            "Parameters : \n",
            "torch.Size([3208, 50])\n",
            "\n",
            "Layer : LSTM(50, 75, batch_first=True)\n",
            "Parameters : \n",
            "torch.Size([300, 50])\n",
            "torch.Size([300, 75])\n",
            "torch.Size([300])\n",
            "torch.Size([300])\n",
            "\n",
            "Layer : Linear(in_features=75, out_features=2, bias=True)\n",
            "Parameters : \n",
            "torch.Size([2, 75])\n",
            "torch.Size([2])\n",
            "\n"
          ]
        }
      ]
    },
    {
      "cell_type": "code",
      "source": [
        "out = lstm_classifier(torch.randint(0, len(ds_vocab), (1024, 100)))\n",
        "out.shape"
      ],
      "metadata": {
        "colab": {
          "base_uri": "https://localhost:8080/"
        },
        "id": "GL_ptW5L4CpV",
        "outputId": "94424998-c618-469f-a460-5a2f0e14c95b"
      },
      "execution_count": 21,
      "outputs": [
        {
          "output_type": "execute_result",
          "data": {
            "text/plain": [
              "torch.Size([1024, 2])"
            ]
          },
          "metadata": {},
          "execution_count": 21
        }
      ]
    },
    {
      "cell_type": "code",
      "source": [
        "from tqdm import tqdm\n",
        "from sklearn.metrics import accuracy_score\n",
        "import gc\n",
        "\n",
        "def CalcValLossAndAccuracy(model, loss_fn, val_loader):\n",
        "    with torch.no_grad():\n",
        "        Y_shuffled, Y_preds, losses = [],[],[]\n",
        "        for X, Y in val_loader:\n",
        "            preds = model(X)\n",
        "            loss = loss_fn(preds, Y)\n",
        "            losses.append(loss.item())\n",
        "\n",
        "            Y_shuffled.append(Y)\n",
        "            Y_preds.append(preds.argmax(dim=-1))\n",
        "\n",
        "        Y_shuffled = torch.cat(Y_shuffled)\n",
        "        Y_preds = torch.cat(Y_preds)\n",
        "        test_loss = torch.tensor(losses).mean()\n",
        "        acc_score = accuracy_score(Y_shuffled.detach().numpy(), Y_preds.detach().numpy())\n",
        "        print(\"Valid Loss : {:.3f}\".format(test_loss))\n",
        "        print(\"Valid Acc  : {:.3f}\".format(acc_score))\n",
        "        return test_loss, acc_score\n",
        "\n",
        "\n",
        "def TrainModel(model, loss_fn, optimizer, train_loader, val_loader, epochs=10):\n",
        "    train_losses = list()\n",
        "    test_losses = list()\n",
        "    acc_scores = list()\n",
        "    for i in range(1, epochs+1):\n",
        "        losses = []\n",
        "        for X, Y in tqdm(train_loader):\n",
        "            Y_preds = model(X) ## Make Predictions\n",
        "\n",
        "            loss = loss_fn(Y_preds, Y) ## Calculate Loss\n",
        "            losses.append(loss.item())\n",
        "\n",
        "            optimizer.zero_grad() ## Clear previously calculated gradients\n",
        "            loss.backward() ## Calculates Gradients\n",
        "            optimizer.step() ## Update network weights.\n",
        "        train_loss = torch.tensor(losses).mean()\n",
        "        print(\"Train Loss : {:.3f}\".format(train_loss))\n",
        "        test_loss, acc_score = CalcValLossAndAccuracy(model, loss_fn, val_loader)\n",
        "        train_losses.append(train_loss)\n",
        "        test_losses.append(test_loss)\n",
        "        acc_scores.append(acc_score)\n",
        "    return train_losses, test_losses, acc_scores"
      ],
      "metadata": {
        "id": "ol4xuA4B4ta0"
      },
      "execution_count": 22,
      "outputs": []
    },
    {
      "cell_type": "code",
      "source": [
        "from torch.optim import Adam\n",
        "\n",
        "epochs = 10\n",
        "learning_rate = 1e-3\n",
        "\n",
        "loss_fn = nn.CrossEntropyLoss()\n",
        "lstm_classifier = LSTMClassifier()\n",
        "optimizer = Adam(lstm_classifier.parameters(), lr=learning_rate)\n",
        "\n",
        "train_losses, test_losses, acc_scores = TrainModel(lstm_classifier, loss_fn, optimizer, train_dataloader, test_dataloader, epochs)"
      ],
      "metadata": {
        "id": "4UNv4utw4zkY",
        "colab": {
          "base_uri": "https://localhost:8080/"
        },
        "outputId": "dd910567-ed75-4f6d-82cb-c323ea0c46a7"
      },
      "execution_count": 23,
      "outputs": [
        {
          "output_type": "stream",
          "name": "stderr",
          "text": [
            "100%|██████████| 2758/2758 [00:25<00:00, 107.45it/s]\n"
          ]
        },
        {
          "output_type": "stream",
          "name": "stdout",
          "text": [
            "Train Loss : 0.105\n",
            "Valid Loss : 0.085\n",
            "Valid Acc  : 0.944\n"
          ]
        },
        {
          "output_type": "stream",
          "name": "stderr",
          "text": [
            "100%|██████████| 2758/2758 [00:16<00:00, 169.44it/s]\n"
          ]
        },
        {
          "output_type": "stream",
          "name": "stdout",
          "text": [
            "Train Loss : 0.015\n",
            "Valid Loss : 0.003\n",
            "Valid Acc  : 1.000\n"
          ]
        },
        {
          "output_type": "stream",
          "name": "stderr",
          "text": [
            "100%|██████████| 2758/2758 [00:15<00:00, 174.73it/s]\n"
          ]
        },
        {
          "output_type": "stream",
          "name": "stdout",
          "text": [
            "Train Loss : 0.007\n",
            "Valid Loss : 0.000\n",
            "Valid Acc  : 1.000\n"
          ]
        },
        {
          "output_type": "stream",
          "name": "stderr",
          "text": [
            "100%|██████████| 2758/2758 [00:13<00:00, 200.28it/s]\n"
          ]
        },
        {
          "output_type": "stream",
          "name": "stdout",
          "text": [
            "Train Loss : 0.000\n",
            "Valid Loss : 0.000\n",
            "Valid Acc  : 1.000\n"
          ]
        },
        {
          "output_type": "stream",
          "name": "stderr",
          "text": [
            "100%|██████████| 2758/2758 [00:15<00:00, 183.04it/s]\n"
          ]
        },
        {
          "output_type": "stream",
          "name": "stdout",
          "text": [
            "Train Loss : 0.001\n",
            "Valid Loss : 0.000\n",
            "Valid Acc  : 1.000\n"
          ]
        },
        {
          "output_type": "stream",
          "name": "stderr",
          "text": [
            "100%|██████████| 2758/2758 [00:15<00:00, 175.17it/s]\n"
          ]
        },
        {
          "output_type": "stream",
          "name": "stdout",
          "text": [
            "Train Loss : 0.002\n",
            "Valid Loss : 0.000\n",
            "Valid Acc  : 1.000\n"
          ]
        },
        {
          "output_type": "stream",
          "name": "stderr",
          "text": [
            "100%|██████████| 2758/2758 [00:16<00:00, 162.90it/s]\n"
          ]
        },
        {
          "output_type": "stream",
          "name": "stdout",
          "text": [
            "Train Loss : 0.000\n",
            "Valid Loss : 0.089\n",
            "Valid Acc  : 0.944\n"
          ]
        },
        {
          "output_type": "stream",
          "name": "stderr",
          "text": [
            "100%|██████████| 2758/2758 [00:16<00:00, 169.84it/s]\n"
          ]
        },
        {
          "output_type": "stream",
          "name": "stdout",
          "text": [
            "Train Loss : 0.000\n",
            "Valid Loss : 0.000\n",
            "Valid Acc  : 1.000\n"
          ]
        },
        {
          "output_type": "stream",
          "name": "stderr",
          "text": [
            "100%|██████████| 2758/2758 [00:17<00:00, 154.15it/s]\n"
          ]
        },
        {
          "output_type": "stream",
          "name": "stdout",
          "text": [
            "Train Loss : 0.000\n",
            "Valid Loss : 0.000\n",
            "Valid Acc  : 1.000\n"
          ]
        },
        {
          "output_type": "stream",
          "name": "stderr",
          "text": [
            "100%|██████████| 2758/2758 [00:16<00:00, 171.66it/s]\n"
          ]
        },
        {
          "output_type": "stream",
          "name": "stdout",
          "text": [
            "Train Loss : 0.000\n",
            "Valid Loss : 0.000\n",
            "Valid Acc  : 1.000\n"
          ]
        }
      ]
    },
    {
      "cell_type": "code",
      "source": [
        "targets = list()\n",
        "predictions = list()\n",
        "for X, Y in test_dataloader:\n",
        "  out = lstm_classifier(X)\n",
        "  pred = list(max(out)).index(max(max(out)).item())\n",
        "  targets.append(Y.item())\n",
        "  predictions.append(pred)\n",
        "  print(f\"Y: {Y.item()}, Out: {pred}\")"
      ],
      "metadata": {
        "colab": {
          "base_uri": "https://localhost:8080/"
        },
        "id": "Y_K4MinBHXN6",
        "outputId": "33c35c20-7ce8-418f-cc72-7715af9a9520"
      },
      "execution_count": 24,
      "outputs": [
        {
          "output_type": "stream",
          "name": "stdout",
          "text": [
            "Y: 1, Out: 1\n",
            "Y: 1, Out: 1\n",
            "Y: 0, Out: 0\n",
            "Y: 1, Out: 1\n",
            "Y: 1, Out: 1\n",
            "Y: 0, Out: 0\n",
            "Y: 1, Out: 1\n",
            "Y: 0, Out: 0\n",
            "Y: 0, Out: 0\n",
            "Y: 0, Out: 0\n",
            "Y: 1, Out: 1\n",
            "Y: 1, Out: 1\n",
            "Y: 0, Out: 0\n",
            "Y: 0, Out: 0\n",
            "Y: 1, Out: 1\n",
            "Y: 0, Out: 0\n",
            "Y: 0, Out: 0\n",
            "Y: 1, Out: 1\n"
          ]
        }
      ]
    },
    {
      "cell_type": "code",
      "source": [
        "train_losses"
      ],
      "metadata": {
        "colab": {
          "base_uri": "https://localhost:8080/"
        },
        "id": "SIlIuLeqMDZs",
        "outputId": "26accb76-7005-466f-b45f-fc35a551c751"
      },
      "execution_count": 25,
      "outputs": [
        {
          "output_type": "execute_result",
          "data": {
            "text/plain": [
              "[tensor(0.1051),\n",
              " tensor(0.0153),\n",
              " tensor(0.0072),\n",
              " tensor(0.0004),\n",
              " tensor(0.0013),\n",
              " tensor(0.0015),\n",
              " tensor(1.1929e-05),\n",
              " tensor(3.0324e-06),\n",
              " tensor(4.7503e-06),\n",
              " tensor(1.0335e-06)]"
            ]
          },
          "metadata": {},
          "execution_count": 25
        }
      ]
    },
    {
      "cell_type": "code",
      "source": [
        "from sklearn.metrics import confusion_matrix\n",
        "import scikitplot as skplt\n",
        "import matplotlib.pyplot as plt\n",
        "import numpy as np\n",
        "\n",
        "skplt.metrics.plot_confusion_matrix(targets, predictions,\n",
        "                                    normalize=True,\n",
        "                                    title=\"Confusion Matrix\",\n",
        "                                    cmap=\"Purples\",\n",
        "                                    hide_zeros=True,\n",
        "                                    figsize=(5,5)\n",
        "                                    );\n",
        "plt.xticks(rotation=90);"
      ],
      "metadata": {
        "colab": {
          "base_uri": "https://localhost:8080/",
          "height": 435
        },
        "id": "w4qEGQNJMhxk",
        "outputId": "79cba0ee-2e7c-486e-c619-560a5cee6c4c"
      },
      "execution_count": 26,
      "outputs": [
        {
          "output_type": "display_data",
          "data": {
            "text/plain": [
              "<Figure size 500x500 with 2 Axes>"
            ],
            "image/png": "[encoded data removed]"
          },
          "metadata": {}
        }
      ]
    },
    {
      "cell_type": "code",
      "source": [
        "t = range(1, epochs + 1, 1)\n",
        "\n",
        "#train_losses, test_losses, acc_scores\n",
        "fig, ax = plt.subplots(nrows=1, ncols=2, figsize = (16, 8))\n",
        "ax[0].plot(t, train_losses, label = \"train loss\", linestyle=\"--\")\n",
        "ax[0].plot(t, test_losses, label = \"test loss\")\n",
        "ax[1].plot(t, acc_scores, label = \"test accuracy\")\n",
        "fig.suptitle(\"Training process\")\n",
        "fig.legend()\n",
        "plt.show()"
      ],
      "metadata": {
        "colab": {
          "base_uri": "https://localhost:8080/",
          "height": 762
        },
        "id": "ehhdNraQ3XD3",
        "outputId": "b6b45300-96d9-4f25-dcac-5a5a4a5545da"
      },
      "execution_count": 41,
      "outputs": [
        {
          "output_type": "display_data",
          "data": {
            "text/plain": [
              "<Figure size 1600x800 with 2 Axes>"
            ],
            "image/png": "[encoded data removed]"
          },
          "metadata": {}
        }
      ]
    },
    {
      "cell_type": "code",
      "source": [
        "# Сохраним модель\n",
        "torch.save(lstm_classifier, \"LSTM_classifier.pth\")\n",
        "\n",
        "# Сохраним словарь\n",
        "with open('vocab.json', 'w') as f:\n",
        "  f.write(json.dumps(ds_vocab))\n",
        "\n",
        "# Сохраним типы задач\n",
        "with open('flipped_tasks.json', 'w') as f:\n",
        "  f.write(json.dumps(flipped_tasks))"
      ],
      "metadata": {
        "id": "Qq8_2Vo_8QRI"
      },
      "execution_count": 83,
      "outputs": []
    },
    {
      "cell_type": "markdown",
      "source": [
        "# Применение модели"
      ],
      "metadata": {
        "id": "-0YC2hwLLW2a"
      }
    },
    {
      "cell_type": "code",
      "source": [
        "# Вспомогательные функции\n",
        "def clean_sentence(sent):\n",
        "  sent = sent.split()\n",
        "  clean_sent = list()\n",
        "  for word in sent:\n",
        "    word = word.lower()\n",
        "    for letter in word:\n",
        "      if not letter.isalpha() and not letter.isnumeric():\n",
        "        word=word.replace(letter, \"\")\n",
        "    clean_sent.append(word)\n",
        "  return clean_sent\n",
        "\n",
        "def prepare_sequence(seq, to_ix):\n",
        "    idxs = [to_ix[w] for w in seq]\n",
        "    return torch.tensor(idxs, dtype=torch.long)"
      ],
      "metadata": {
        "id": "d3ScuAe6LZxv"
      },
      "execution_count": null,
      "outputs": []
    },
    {
      "cell_type": "code",
      "source": [
        "# Загрузим модель\n",
        "model = torch.load(\"LSTM_classifier.pth\")\n",
        "model.eval()\n",
        "\n",
        "# Загрузим словарь\n",
        "with open('vocab.json', 'r') as f:\n",
        "  vacab = json.load(f)\n",
        "\n",
        "# Загрузим типы задач\n",
        "with open('flipped_tasks.json', 'r') as f:\n",
        "  flipped_tasks = json.load(f)"
      ],
      "metadata": {
        "id": "_N86DPsm9PnB"
      },
      "execution_count": 84,
      "outputs": []
    },
    {
      "cell_type": "code",
      "source": [
        "example = 'Как установить срок выполнения задачи в WEEEK?'\n",
        "def get_result(example):\n",
        "  example = clean_sentence(example)\n",
        "  input = prepare_sequence(example, vacab)\n",
        "  out = model(input[None, :])\n",
        "  pred = list(max(out)).index(max(max(out)).item())\n",
        "  return flipped_tasks[str(pred)]\n",
        "\n",
        "get_result(example)"
      ],
      "metadata": {
        "colab": {
          "base_uri": "https://localhost:8080/",
          "height": 35
        },
        "id": "-dyD-LbG6o7O",
        "outputId": "80fed587-66b1-448b-9715-81d70a96c9c1"
      },
      "execution_count": 87,
      "outputs": [
        {
          "output_type": "execute_result",
          "data": {
            "text/plain": [
              "'advice'"
            ],
            "application/vnd.google.colaboratory.intrinsic+json": {
              "type": "string"
            }
          },
          "metadata": {},
          "execution_count": 87
        }
      ]
    },
    {
      "cell_type": "code",
      "source": [
        "examples = list()\n",
        "for i, row in df[df['type']=='test'].iterrows():\n",
        "  examples.append(row[\"Message\"])"
      ],
      "metadata": {
        "id": "XLJodP0i-VL_"
      },
      "execution_count": 66,
      "outputs": []
    },
    {
      "cell_type": "code",
      "source": [
        "for example in examples:\n",
        "  print(f\"{example}  =>  {get_result(example)}\")"
      ],
      "metadata": {
        "colab": {
          "base_uri": "https://localhost:8080/"
        },
        "id": "MUKgfBWQ9x_g",
        "outputId": "cf2d832f-6507-4814-cd3a-6c3e852fc0fa"
      },
      "execution_count": 68,
      "outputs": [
        {
          "output_type": "stream",
          "name": "stdout",
          "text": [
            "\"Как организовать проект и добавиь в него задачки?\"  =>  advice\n",
            "\"Как настроить автоматическое назначение задач на основе приоритета?\"  =>  advice\n",
            "\"Как настроить интеграцию с системами учета рабочего времени?\"  =>  advice\n",
            "\"Как оценить критические показатели и метрики для задач?\"  =>  advice\n",
            "\"Как настроить интеграцию с облачными хранилищами файлов?\"  =>  advice\n",
            "\"Как настроить доступ к задачам для внешних сторон?\"  =>  advice\n",
            "\"Как оценить продвижение проекта по этапам и майлстонам?\"  =>  advice\n",
            "\"Как оценить выполнение задачи с точки зрения качества?\"  =>  advice\n",
            "\"Как настроить интеграцию с системами управления контентом?\"  =>  advice\n",
            "Алексей Орлов, разработайте медиа-план на следующий год к 10 февраля.  =>  task_create\n",
            "Анна Кузнецова, разработайте анкету для исследования рынка к 5 апреля.  =>  task_create\n",
            "Александр Логинов, разработайте концепцию вирусной рекламной кампании к 1 июня.  =>  task_create\n",
            "Анатолий Петухов, проанализируйте рыночные возможности нового стартапа к 15 июля.  =>  task_create\n",
            "Алексей Жуков подготовьте предложения по оптимизации сайта к 20 августа.  =>  task_create\n",
            "Александр Логинов, спланируйте создание контент-плана на месяц вперед к 25 ноября.  =>  task_create\n",
            "Алексею Орлову нужно спланировать нашу работу по созданию аккаунтов компании в социальных сетях на следующий месяц к пятнице.  =>  task_create\n",
            "Анна Кузнецова, разработайте анкету для исследования потребителей и представьте варианты опросника завтра.  =>  task_create\n",
            "Александр должен разработать дизайн этикеток для новой продукции к 1 марта.  =>  task_create\n"
          ]
        }
      ]
    },
    {
      "cell_type": "code",
      "source": [
        "get_result(\"Кто такие Авоська и Небоська?\")"
      ],
      "metadata": {
        "colab": {
          "base_uri": "https://localhost:8080/",
          "height": 286
        },
        "id": "KNrU5C72Fkxv",
        "outputId": "f722dd86-a096-41d2-b823-2c4108e9684e"
      },
      "execution_count": 70,
      "outputs": [
        {
          "output_type": "error",
          "ename": "KeyError",
          "evalue": "ignored",
          "traceback": [
            "\u001b[0;31m---------------------------------------------------------------------------\u001b[0m",
            "\u001b[0;31mKeyError\u001b[0m                                  Traceback (most recent call last)",
            "\u001b[0;32m<ipython-input-70-b376533c7ceb>\u001b[0m in \u001b[0;36m<cell line: 1>\u001b[0;34m()\u001b[0m\n\u001b[0;32m----> 1\u001b[0;31m \u001b[0mget_result\u001b[0m\u001b[0;34m(\u001b[0m\u001b[0;34m\"Кто такие Авоська и Небоська?\"\u001b[0m\u001b[0;34m)\u001b[0m\u001b[0;34m\u001b[0m\u001b[0;34m\u001b[0m\u001b[0m\n\u001b[0m",
            "\u001b[0;32m<ipython-input-63-b5ad68686be0>\u001b[0m in \u001b[0;36mget_result\u001b[0;34m(example)\u001b[0m\n\u001b[1;32m      2\u001b[0m \u001b[0;32mdef\u001b[0m \u001b[0mget_result\u001b[0m\u001b[0;34m(\u001b[0m\u001b[0mexample\u001b[0m\u001b[0;34m)\u001b[0m\u001b[0;34m:\u001b[0m\u001b[0;34m\u001b[0m\u001b[0;34m\u001b[0m\u001b[0m\n\u001b[1;32m      3\u001b[0m   \u001b[0mexample\u001b[0m \u001b[0;34m=\u001b[0m \u001b[0mclean_sentence\u001b[0m\u001b[0;34m(\u001b[0m\u001b[0mexample\u001b[0m\u001b[0;34m)\u001b[0m\u001b[0;34m\u001b[0m\u001b[0;34m\u001b[0m\u001b[0m\n\u001b[0;32m----> 4\u001b[0;31m   \u001b[0minput\u001b[0m \u001b[0;34m=\u001b[0m \u001b[0mprepare_sequence\u001b[0m\u001b[0;34m(\u001b[0m\u001b[0mexample\u001b[0m\u001b[0;34m,\u001b[0m \u001b[0mds_vocab\u001b[0m\u001b[0;34m)\u001b[0m\u001b[0;34m\u001b[0m\u001b[0;34m\u001b[0m\u001b[0m\n\u001b[0m\u001b[1;32m      5\u001b[0m   \u001b[0mout\u001b[0m \u001b[0;34m=\u001b[0m \u001b[0mmodel\u001b[0m\u001b[0;34m(\u001b[0m\u001b[0minput\u001b[0m\u001b[0;34m[\u001b[0m\u001b[0;32mNone\u001b[0m\u001b[0;34m,\u001b[0m \u001b[0;34m:\u001b[0m\u001b[0;34m]\u001b[0m\u001b[0;34m)\u001b[0m\u001b[0;34m\u001b[0m\u001b[0;34m\u001b[0m\u001b[0m\n\u001b[1;32m      6\u001b[0m   \u001b[0mpred\u001b[0m \u001b[0;34m=\u001b[0m \u001b[0mlist\u001b[0m\u001b[0;34m(\u001b[0m\u001b[0mmax\u001b[0m\u001b[0;34m(\u001b[0m\u001b[0mout\u001b[0m\u001b[0;34m)\u001b[0m\u001b[0;34m)\u001b[0m\u001b[0;34m.\u001b[0m\u001b[0mindex\u001b[0m\u001b[0;34m(\u001b[0m\u001b[0mmax\u001b[0m\u001b[0;34m(\u001b[0m\u001b[0mmax\u001b[0m\u001b[0;34m(\u001b[0m\u001b[0mout\u001b[0m\u001b[0;34m)\u001b[0m\u001b[0;34m)\u001b[0m\u001b[0;34m.\u001b[0m\u001b[0mitem\u001b[0m\u001b[0;34m(\u001b[0m\u001b[0;34m)\u001b[0m\u001b[0;34m)\u001b[0m\u001b[0;34m\u001b[0m\u001b[0;34m\u001b[0m\u001b[0m\n",
            "\u001b[0;32m<ipython-input-14-8196bbadc6a8>\u001b[0m in \u001b[0;36mprepare_sequence\u001b[0;34m(seq, to_ix)\u001b[0m\n\u001b[1;32m      1\u001b[0m \u001b[0;32mdef\u001b[0m \u001b[0mprepare_sequence\u001b[0m\u001b[0;34m(\u001b[0m\u001b[0mseq\u001b[0m\u001b[0;34m,\u001b[0m \u001b[0mto_ix\u001b[0m\u001b[0;34m)\u001b[0m\u001b[0;34m:\u001b[0m\u001b[0;34m\u001b[0m\u001b[0;34m\u001b[0m\u001b[0m\n\u001b[0;32m----> 2\u001b[0;31m     \u001b[0midxs\u001b[0m \u001b[0;34m=\u001b[0m \u001b[0;34m[\u001b[0m\u001b[0mto_ix\u001b[0m\u001b[0;34m[\u001b[0m\u001b[0mw\u001b[0m\u001b[0;34m]\u001b[0m \u001b[0;32mfor\u001b[0m \u001b[0mw\u001b[0m \u001b[0;32min\u001b[0m \u001b[0mseq\u001b[0m\u001b[0;34m]\u001b[0m\u001b[0;34m\u001b[0m\u001b[0;34m\u001b[0m\u001b[0m\n\u001b[0m\u001b[1;32m      3\u001b[0m     \u001b[0;32mreturn\u001b[0m \u001b[0mtorch\u001b[0m\u001b[0;34m.\u001b[0m\u001b[0mtensor\u001b[0m\u001b[0;34m(\u001b[0m\u001b[0midxs\u001b[0m\u001b[0;34m,\u001b[0m \u001b[0mdtype\u001b[0m\u001b[0;34m=\u001b[0m\u001b[0mtorch\u001b[0m\u001b[0;34m.\u001b[0m\u001b[0mlong\u001b[0m\u001b[0;34m)\u001b[0m\u001b[0;34m\u001b[0m\u001b[0;34m\u001b[0m\u001b[0m\n",
            "\u001b[0;32m<ipython-input-14-8196bbadc6a8>\u001b[0m in \u001b[0;36m<listcomp>\u001b[0;34m(.0)\u001b[0m\n\u001b[1;32m      1\u001b[0m \u001b[0;32mdef\u001b[0m \u001b[0mprepare_sequence\u001b[0m\u001b[0;34m(\u001b[0m\u001b[0mseq\u001b[0m\u001b[0;34m,\u001b[0m \u001b[0mto_ix\u001b[0m\u001b[0;34m)\u001b[0m\u001b[0;34m:\u001b[0m\u001b[0;34m\u001b[0m\u001b[0;34m\u001b[0m\u001b[0m\n\u001b[0;32m----> 2\u001b[0;31m     \u001b[0midxs\u001b[0m \u001b[0;34m=\u001b[0m \u001b[0;34m[\u001b[0m\u001b[0mto_ix\u001b[0m\u001b[0;34m[\u001b[0m\u001b[0mw\u001b[0m\u001b[0;34m]\u001b[0m \u001b[0;32mfor\u001b[0m \u001b[0mw\u001b[0m \u001b[0;32min\u001b[0m \u001b[0mseq\u001b[0m\u001b[0;34m]\u001b[0m\u001b[0;34m\u001b[0m\u001b[0;34m\u001b[0m\u001b[0m\n\u001b[0m\u001b[1;32m      3\u001b[0m     \u001b[0;32mreturn\u001b[0m \u001b[0mtorch\u001b[0m\u001b[0;34m.\u001b[0m\u001b[0mtensor\u001b[0m\u001b[0;34m(\u001b[0m\u001b[0midxs\u001b[0m\u001b[0;34m,\u001b[0m \u001b[0mdtype\u001b[0m\u001b[0;34m=\u001b[0m\u001b[0mtorch\u001b[0m\u001b[0;34m.\u001b[0m\u001b[0mlong\u001b[0m\u001b[0;34m)\u001b[0m\u001b[0;34m\u001b[0m\u001b[0;34m\u001b[0m\u001b[0m\n",
            "\u001b[0;31mKeyError\u001b[0m: 'такие'"
          ]
        }
      ]
    }
  ]
}