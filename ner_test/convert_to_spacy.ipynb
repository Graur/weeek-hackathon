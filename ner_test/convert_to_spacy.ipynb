{
 "cells": [
  {
   "cell_type": "code",
   "execution_count": 1,
   "id": "93b808a1",
   "metadata": {},
   "outputs": [
    {
     "name": "stderr",
     "output_type": "stream",
     "text": [
      "2023-12-16 13:20:47.891487: I tensorflow/core/util/port.cc:110] oneDNN custom operations are on. You may see slightly different numerical results due to floating-point round-off errors from different computation orders. To turn them off, set the environment variable `TF_ENABLE_ONEDNN_OPTS=0`.\n",
      "2023-12-16 13:20:47.899452: I tensorflow/tsl/cuda/cudart_stub.cc:28] Could not find cuda drivers on your machine, GPU will not be used.\n",
      "2023-12-16 13:20:47.948204: I tensorflow/tsl/cuda/cudart_stub.cc:28] Could not find cuda drivers on your machine, GPU will not be used.\n",
      "2023-12-16 13:20:47.948961: I tensorflow/core/platform/cpu_feature_guard.cc:182] This TensorFlow binary is optimized to use available CPU instructions in performance-critical operations.\n",
      "To enable the following instructions: AVX2 AVX512F AVX512_VNNI FMA, in other operations, rebuild TensorFlow with the appropriate compiler flags.\n",
      "2023-12-16 13:20:48.567770: W tensorflow/compiler/tf2tensorrt/utils/py_utils.cc:38] TF-TRT Warning: Could not find TensorRT\n"
     ]
    }
   ],
   "source": [
    "import pandas as pd\n",
    "import spacy\n",
    "from spacy.tokens import Doc, DocBin\n",
    "from pathlib import Path\n",
    "import json\n"
   ]
  },
  {
   "cell_type": "code",
   "execution_count": 2,
   "id": "180a4ef6",
   "metadata": {},
   "outputs": [],
   "source": [
    "DATA_PATH = \"/home/user/MPIT_HOMEWORK/data/data.json\"\n",
    "SPACY_DATA_OUT_PATH = \"/home/user/MPIT_HOMEWORK\""
   ]
  },
  {
   "cell_type": "code",
   "execution_count": 3,
   "id": "73c5706e",
   "metadata": {},
   "outputs": [],
   "source": [
    "df = pd.read_json(DATA_PATH)"
   ]
  },
  {
   "cell_type": "code",
   "execution_count": 4,
   "id": "350909fc",
   "metadata": {},
   "outputs": [
    {
     "data": {
      "text/html": [
       "<div>\n",
       "<style scoped>\n",
       "    .dataframe tbody tr th:only-of-type {\n",
       "        vertical-align: middle;\n",
       "    }\n",
       "\n",
       "    .dataframe tbody tr th {\n",
       "        vertical-align: top;\n",
       "    }\n",
       "\n",
       "    .dataframe thead th {\n",
       "        text-align: right;\n",
       "    }\n",
       "</style>\n",
       "<table border=\"1\" class=\"dataframe\">\n",
       "  <thead>\n",
       "    <tr style=\"text-align: right;\">\n",
       "      <th></th>\n",
       "      <th>текстовое_сообщение</th>\n",
       "      <th>тип_события</th>\n",
       "      <th>дополнительные_параметры</th>\n",
       "    </tr>\n",
       "  </thead>\n",
       "  <tbody>\n",
       "    <tr>\n",
       "      <th>0</th>\n",
       "      <td>Создай задачу: разработать дизайн логотипа</td>\n",
       "      <td>создание_задачи</td>\n",
       "      <td>{'текст_задачи': 'разработать дизайн логотипа'}</td>\n",
       "    </tr>\n",
       "    <tr>\n",
       "      <th>1</th>\n",
       "      <td>Создай заметку: идеи для нового проекта</td>\n",
       "      <td>создание_заметки</td>\n",
       "      <td>{'текст_заметки': 'идеи для нового проекта'}</td>\n",
       "    </tr>\n",
       "    <tr>\n",
       "      <th>2</th>\n",
       "      <td>Создай задачу: подготовить отчет к конференции</td>\n",
       "      <td>создание_задачи</td>\n",
       "      <td>{'текст_задачи': 'подготовить отчет к конферен...</td>\n",
       "    </tr>\n",
       "    <tr>\n",
       "      <th>3</th>\n",
       "      <td>Создай заметку: список дел на неделю</td>\n",
       "      <td>создание_заметки</td>\n",
       "      <td>{'текст_заметки': 'список дел на неделю'}</td>\n",
       "    </tr>\n",
       "    <tr>\n",
       "      <th>4</th>\n",
       "      <td>Создать задачу для разработчика: создание ново...</td>\n",
       "      <td>создание_задачи</td>\n",
       "      <td>{'текст_задачи': 'создание новой функционально...</td>\n",
       "    </tr>\n",
       "    <tr>\n",
       "      <th>5</th>\n",
       "      <td>Создать заметку: идеи для рекламной кампании</td>\n",
       "      <td>создание_заметки</td>\n",
       "      <td>{'текст_заметки': 'идеи для рекламной кампании'}</td>\n",
       "    </tr>\n",
       "    <tr>\n",
       "      <th>6</th>\n",
       "      <td>Напомни мне о совещании с клиентом в четверг в...</td>\n",
       "      <td>напоминание</td>\n",
       "      <td>{'время_напоминания': 'четверг в 14:00'}</td>\n",
       "    </tr>\n",
       "    <tr>\n",
       "      <th>7</th>\n",
       "      <td>Создай задачу: подготовить презентацию для инв...</td>\n",
       "      <td>создание_задачи</td>\n",
       "      <td>{'текст_задачи': 'подготовить презентацию для ...</td>\n",
       "    </tr>\n",
       "    <tr>\n",
       "      <th>8</th>\n",
       "      <td>Запланируй встречу с командой на следующей неделе</td>\n",
       "      <td>планирование_встречи</td>\n",
       "      <td>{'дата_встречи': 'следующая неделя'}</td>\n",
       "    </tr>\n",
       "    <tr>\n",
       "      <th>9</th>\n",
       "      <td>Создай задачу: провести анализ рынка</td>\n",
       "      <td>создание_задачи</td>\n",
       "      <td>{'текст_задачи': 'провести анализ рынка'}</td>\n",
       "    </tr>\n",
       "  </tbody>\n",
       "</table>\n",
       "</div>"
      ],
      "text/plain": [
       "                                 текстовое_сообщение           тип_события  \\\n",
       "0         Создай задачу: разработать дизайн логотипа       создание_задачи   \n",
       "1            Создай заметку: идеи для нового проекта      создание_заметки   \n",
       "2     Создай задачу: подготовить отчет к конференции       создание_задачи   \n",
       "3               Создай заметку: список дел на неделю      создание_заметки   \n",
       "4  Создать задачу для разработчика: создание ново...       создание_задачи   \n",
       "5       Создать заметку: идеи для рекламной кампании      создание_заметки   \n",
       "6  Напомни мне о совещании с клиентом в четверг в...           напоминание   \n",
       "7  Создай задачу: подготовить презентацию для инв...       создание_задачи   \n",
       "8  Запланируй встречу с командой на следующей неделе  планирование_встречи   \n",
       "9               Создай задачу: провести анализ рынка       создание_задачи   \n",
       "\n",
       "                            дополнительные_параметры  \n",
       "0    {'текст_задачи': 'разработать дизайн логотипа'}  \n",
       "1       {'текст_заметки': 'идеи для нового проекта'}  \n",
       "2  {'текст_задачи': 'подготовить отчет к конферен...  \n",
       "3          {'текст_заметки': 'список дел на неделю'}  \n",
       "4  {'текст_задачи': 'создание новой функционально...  \n",
       "5   {'текст_заметки': 'идеи для рекламной кампании'}  \n",
       "6           {'время_напоминания': 'четверг в 14:00'}  \n",
       "7  {'текст_задачи': 'подготовить презентацию для ...  \n",
       "8               {'дата_встречи': 'следующая неделя'}  \n",
       "9          {'текст_задачи': 'провести анализ рынка'}  "
      ]
     },
     "execution_count": 4,
     "metadata": {},
     "output_type": "execute_result"
    }
   ],
   "source": [
    "df"
   ]
  },
  {
   "cell_type": "code",
   "execution_count": 5,
   "id": "5b8209fd",
   "metadata": {},
   "outputs": [],
   "source": [
    "df_train = df['текстовое_сообщение'].to_frame().rename(columns={\"текстовое_сообщение\": \"train_data\"})"
   ]
  },
  {
   "cell_type": "code",
   "execution_count": 6,
   "id": "24fa8047",
   "metadata": {},
   "outputs": [
    {
     "data": {
      "text/html": [
       "<div>\n",
       "<style scoped>\n",
       "    .dataframe tbody tr th:only-of-type {\n",
       "        vertical-align: middle;\n",
       "    }\n",
       "\n",
       "    .dataframe tbody tr th {\n",
       "        vertical-align: top;\n",
       "    }\n",
       "\n",
       "    .dataframe thead th {\n",
       "        text-align: right;\n",
       "    }\n",
       "</style>\n",
       "<table border=\"1\" class=\"dataframe\">\n",
       "  <thead>\n",
       "    <tr style=\"text-align: right;\">\n",
       "      <th></th>\n",
       "      <th>train_data</th>\n",
       "    </tr>\n",
       "  </thead>\n",
       "  <tbody>\n",
       "    <tr>\n",
       "      <th>0</th>\n",
       "      <td>Создай задачу: разработать дизайн логотипа</td>\n",
       "    </tr>\n",
       "    <tr>\n",
       "      <th>1</th>\n",
       "      <td>Создай заметку: идеи для нового проекта</td>\n",
       "    </tr>\n",
       "    <tr>\n",
       "      <th>2</th>\n",
       "      <td>Создай задачу: подготовить отчет к конференции</td>\n",
       "    </tr>\n",
       "    <tr>\n",
       "      <th>3</th>\n",
       "      <td>Создай заметку: список дел на неделю</td>\n",
       "    </tr>\n",
       "    <tr>\n",
       "      <th>4</th>\n",
       "      <td>Создать задачу для разработчика: создание ново...</td>\n",
       "    </tr>\n",
       "    <tr>\n",
       "      <th>5</th>\n",
       "      <td>Создать заметку: идеи для рекламной кампании</td>\n",
       "    </tr>\n",
       "    <tr>\n",
       "      <th>6</th>\n",
       "      <td>Напомни мне о совещании с клиентом в четверг в...</td>\n",
       "    </tr>\n",
       "    <tr>\n",
       "      <th>7</th>\n",
       "      <td>Создай задачу: подготовить презентацию для инв...</td>\n",
       "    </tr>\n",
       "    <tr>\n",
       "      <th>8</th>\n",
       "      <td>Запланируй встречу с командой на следующей неделе</td>\n",
       "    </tr>\n",
       "    <tr>\n",
       "      <th>9</th>\n",
       "      <td>Создай задачу: провести анализ рынка</td>\n",
       "    </tr>\n",
       "  </tbody>\n",
       "</table>\n",
       "</div>"
      ],
      "text/plain": [
       "                                          train_data\n",
       "0         Создай задачу: разработать дизайн логотипа\n",
       "1            Создай заметку: идеи для нового проекта\n",
       "2     Создай задачу: подготовить отчет к конференции\n",
       "3               Создай заметку: список дел на неделю\n",
       "4  Создать задачу для разработчика: создание ново...\n",
       "5       Создать заметку: идеи для рекламной кампании\n",
       "6  Напомни мне о совещании с клиентом в четверг в...\n",
       "7  Создай задачу: подготовить презентацию для инв...\n",
       "8  Запланируй встречу с командой на следующей неделе\n",
       "9               Создай задачу: провести анализ рынка"
      ]
     },
     "execution_count": 6,
     "metadata": {},
     "output_type": "execute_result"
    }
   ],
   "source": [
    "df_train"
   ]
  },
  {
   "cell_type": "code",
   "execution_count": 7,
   "id": "4f5f2439",
   "metadata": {},
   "outputs": [],
   "source": [
    "def pattern_create(df_columns):\n",
    "    pattern = []\n",
    "    for i in df_columns:\n",
    "        for k,v in i.items():\n",
    "            pattern.append({\"label\" : k, \"pattern\" : v})\n",
    "    return pattern\n",
    "        "
   ]
  },
  {
   "cell_type": "code",
   "execution_count": 8,
   "id": "de7c7ded",
   "metadata": {},
   "outputs": [],
   "source": [
    "patterns = pattern_create(df['дополнительные_параметры'])"
   ]
  },
  {
   "cell_type": "code",
   "execution_count": 9,
   "id": "4afb2b57",
   "metadata": {},
   "outputs": [],
   "source": [
    "patterns[8]['pattern'] = \"на следующей неделе\""
   ]
  },
  {
   "cell_type": "code",
   "execution_count": 10,
   "id": "0cd66467",
   "metadata": {},
   "outputs": [
    {
     "data": {
      "text/plain": [
       "[{'label': 'текст_задачи', 'pattern': 'разработать дизайн логотипа'},\n",
       " {'label': 'текст_заметки', 'pattern': 'идеи для нового проекта'},\n",
       " {'label': 'текст_задачи', 'pattern': 'подготовить отчет к конференции'},\n",
       " {'label': 'текст_заметки', 'pattern': 'список дел на неделю'},\n",
       " {'label': 'текст_задачи', 'pattern': 'создание новой функциональности'},\n",
       " {'label': 'текст_заметки', 'pattern': 'идеи для рекламной кампании'},\n",
       " {'label': 'время_напоминания', 'pattern': 'четверг в 14:00'},\n",
       " {'label': 'текст_задачи',\n",
       "  'pattern': 'подготовить презентацию для инвесторов'},\n",
       " {'label': 'дата_встречи', 'pattern': 'на следующей неделе'},\n",
       " {'label': 'текст_задачи', 'pattern': 'провести анализ рынка'}]"
      ]
     },
     "execution_count": 10,
     "metadata": {},
     "output_type": "execute_result"
    }
   ],
   "source": [
    "patterns"
   ]
  },
  {
   "cell_type": "code",
   "execution_count": 11,
   "id": "939e0bb8",
   "metadata": {},
   "outputs": [],
   "source": [
    "nlp = spacy.blank(\"en\")\n",
    "ruler = nlp.add_pipe(\"entity_ruler\")\n",
    "ruler.add_patterns(patterns)"
   ]
  },
  {
   "cell_type": "code",
   "execution_count": 12,
   "id": "390f94eb",
   "metadata": {},
   "outputs": [],
   "source": [
    "def convert_to_spacy(names_pattern, dataframe, path_out, spacy_names, spacy_ruler):\n",
    "    print('START')\n",
    "    \n",
    "    def dataframe_predproc(pattern, dataframe, spacy_names, spacy_ruler):\n",
    "        count =  0\n",
    "        names = spacy_names\n",
    "        ruler = spacy_ruler\n",
    "        TRAIN_DATA = [] # наименование переменной TRAIN_DATA обязательна для перевода в spacy db\n",
    "        for col in dataframe['train_data']:\n",
    "            count +=1\n",
    "            doc = names(str(col))\n",
    "            print(doc.ents, count)\n",
    "            entities = []\n",
    "            for ent in doc.ents:\n",
    "               # print(ruler.patterns[0:100])\n",
    "             #   print(ent,ent.label_)\n",
    "                entities.append([ent.start_char, ent.end_char, ent.label_])\n",
    "            TRAIN_DATA.append([str(col), {\"entities\": entities}])\n",
    "        return TRAIN_DATA\n",
    "        \n",
    "        \n",
    "    def convert_to_db(lang: str, TRAIN_DATA, output_path: Path):\n",
    "        nlp = spacy.blank(lang)\n",
    "        db = DocBin()\n",
    "        for text, annot in TRAIN_DATA:\n",
    "            doc = nlp.make_doc(str(text))\n",
    "            ents = []\n",
    "            for start, end, label in annot[\"entities\"]:\n",
    "                span = doc.char_span(start, end, label=label)\n",
    "                if span is None:\n",
    "                    msg = f\"Skipping entity [{start}, {end}, {label}] in the following text because the character span '{doc.text[start:end]}' does not align with token boundaries:\\n\\n{repr(text)}\\n\"\n",
    "                    warnings.warn(msg)\n",
    "                else:\n",
    "                    ents.append(span)\n",
    "            doc.ents = ents\n",
    "            db.add(doc)\n",
    "        return(db.to_disk(output_path))\n",
    "    \n",
    "    df = dataframe\n",
    "    pattern = names_pattern\n",
    "    names = spacy_names\n",
    "    ruler = spacy_ruler\n",
    "    TRAIN_DATA = dataframe_predproc(pattern, df, names, ruler)\n",
    "    print(TRAIN_DATA[0:10])\n",
    "    convert_to_db(\"en\", TRAIN_DATA, str(path_out))"
   ]
  },
  {
   "cell_type": "code",
   "execution_count": 13,
   "id": "c774113e",
   "metadata": {},
   "outputs": [
    {
     "name": "stdout",
     "output_type": "stream",
     "text": [
      "START\n",
      "(разработать дизайн логотипа,) 1\n",
      "(идеи для нового проекта,) 2\n",
      "(подготовить отчет к конференции,) 3\n",
      "(список дел на неделю,) 4\n",
      "(создание новой функциональности,) 5\n",
      "(идеи для рекламной кампании,) 6\n",
      "(четверг в 14:00,) 7\n",
      "(подготовить презентацию для инвесторов,) 8\n",
      "(на следующей неделе,) 9\n",
      "(провести анализ рынка,) 10\n",
      "[['Создай задачу: разработать дизайн логотипа', {'entities': [[15, 42, 'текст_задачи']]}], ['Создай заметку: идеи для нового проекта', {'entities': [[16, 39, 'текст_заметки']]}], ['Создай задачу: подготовить отчет к конференции', {'entities': [[15, 46, 'текст_задачи']]}], ['Создай заметку: список дел на неделю', {'entities': [[16, 36, 'текст_заметки']]}], ['Создать задачу для разработчика: создание новой функциональности', {'entities': [[33, 64, 'текст_задачи']]}], ['Создать заметку: идеи для рекламной кампании', {'entities': [[17, 44, 'текст_заметки']]}], ['Напомни мне о совещании с клиентом в четверг в 14:00', {'entities': [[37, 52, 'время_напоминания']]}], ['Создай задачу: подготовить презентацию для инвесторов', {'entities': [[15, 53, 'текст_задачи']]}], ['Запланируй встречу с командой на следующей неделе', {'entities': [[30, 49, 'дата_встречи']]}], ['Создай задачу: провести анализ рынка', {'entities': [[15, 36, 'текст_задачи']]}]]\n"
     ]
    }
   ],
   "source": [
    "convert_to_spacy(patterns, df_train, SPACY_DATA_OUT_PATH + r'/jira_check.spacy',nlp, ruler)\n"
   ]
  }
 ],
 "metadata": {
  "kernelspec": {
   "display_name": "Python 3 (ipykernel)",
   "language": "python",
   "name": "python3"
  },
  "language_info": {
   "codemirror_mode": {
    "name": "ipython",
    "version": 3
   },
   "file_extension": ".py",
   "mimetype": "text/x-python",
   "name": "python",
   "nbconvert_exporter": "python",
   "pygments_lexer": "ipython3",
   "version": "3.9.18"
  }
 },
 "nbformat": 4,
 "nbformat_minor": 5
}
